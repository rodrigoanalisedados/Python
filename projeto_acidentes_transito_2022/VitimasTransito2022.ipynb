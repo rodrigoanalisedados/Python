{
 "cells": [
  {
   "cell_type": "markdown",
   "id": "9f4e1e90",
   "metadata": {},
   "source": [
    "\n",
    "# <font color=\"#0080ff\"> Acidentes de trânsito no Brasil em 2022 </font>\n",
    "### Limpeza, tratamento e preparação dos dados.\n",
    "<hr color=\"#F5F5F5\" size=\"1\">\n",
    "\n",
    "<strong>Por Rodrigo Xavier dos Santos</strong>"
   ]
  },
  {
   "cell_type": "markdown",
   "id": "529285c2",
   "metadata": {},
   "source": [
    "![title](acidente.png)"
   ]
  },
  {
   "cell_type": "markdown",
   "id": "ffc24bba",
   "metadata": {},
   "source": [
    "<a id='contexto-projeto'></a>\n",
    "## <font color=\"#0080ff\"> Sobre o contexto do projeto</font>\n",
    "<hr color=\"#F5F5F5\" size=\"1\">"
   ]
  },
  {
   "cell_type": "markdown",
   "id": "738ffbf0",
   "metadata": {},
   "source": [
    "O Instituto de Pesquisa Econômica Aplicada (Ipea) estima em <strong>45 mil mortos anuais</strong> e R$ 50 bilhões de custo econômico o resultado dos acidentes de trânsito no Brasil. Em 2017, esses acidentes representaram a principal causa de mortes de crianças entre 5 e 14 anos no país. Recentemente, a legislação mudou para punir com mais rigor o homicídio culposo de trânsito. Especialistas em audiência no Senado defendem educação no trânsito nas escolas brasileiras.\n",
    "\n",
    "**Fonte: [TV Senado](https://www12.senado.leg.br/tv/programas/em-discussao/2022/09/transito-brasileiro-45-mil-mortes-e-r-50-bilhoes-de-prejuizo-economico)**\n",
    "\n",
    "<div class=\"alert alert-info\"> \n",
    "<strong><div style=\"color: rgb(0, 0, 0);\">📌 Os principais objetivos deste projeto: </div></strong> <br>\n",
    "<div style=\"color: rgb(0, 0, 0);\">→ Explorar os dados; </div>\n",
    "<div style=\"color: rgb(0, 0, 0);\">→ Aplicar técnicas de limpeza de dados;</div>\n",
    "<div style=\"color: rgb(0, 0, 0);\">→ Disponibilizar os dados tratados para análise em outras ferramentas.</div>\n",
    "</div>"
   ]
  },
  {
   "cell_type": "markdown",
   "id": "fefb98f8",
   "metadata": {},
   "source": [
    "<div class=\"alert alert-warning\"> \n",
    "<strong><div style=\"color: rgb(0, 0, 0);\">A fonte de dados:</div></strong> <br>\n",
    "    <div style=\"color: rgb(0, 0, 0);\">\n",
    "        → Os dados são públicos e referente a acidentes de trânsito no Brasil em 2022 até (setembro).<br>\n",
    "        → Esse dataset foi alimentado pela <strong>Polícia Rodoviária Federal.</strong>\n",
    "\n",
    "A fonte de dados completa pode ser baixado em **[gov.br](https://www.gov.br/prf/pt-br/acesso-a-informacao/dados-abertos/dados-abertos-acidentes)**\n",
    "</div>"
   ]
  },
  {
   "cell_type": "markdown",
   "id": "13de92cf",
   "metadata": {},
   "source": [
    "<a id='carregando-dados'></a>\n",
    "## <font color=\"#0080ff\"> 1 - Importando os pacotes e módulos</font>\n",
    "<hr color=\"#F5F5F5\" size=\"1\">"
   ]
  },
  {
   "cell_type": "code",
   "execution_count": 1,
   "id": "38c34391",
   "metadata": {},
   "outputs": [
    {
     "name": "stdout",
     "output_type": "stream",
     "text": [
      "Versão da Linguagem Python Usada Neste Jupyter Notebook: 3.9.12\n"
     ]
    }
   ],
   "source": [
    "# Versão da Linguagem Python\n",
    "from platform import python_version\n",
    "print('Versão da Linguagem Python Usada Neste Jupyter Notebook:', python_version())"
   ]
  },
  {
   "cell_type": "code",
   "execution_count": 2,
   "id": "425db3e3",
   "metadata": {},
   "outputs": [],
   "source": [
    "# Importando os pacotes\n",
    "import numpy as np\n",
    "import pandas as pd\n",
    "import matplotlib.pyplot as plt\n",
    "import seaborn as sns\n",
    "import sys, os\n",
    "import warnings\n",
    "warnings.filterwarnings(\"ignore\")"
   ]
  },
  {
   "cell_type": "code",
   "execution_count": 24,
   "id": "9aa0aad9",
   "metadata": {},
   "outputs": [],
   "source": [
    "# Vamos adicionar caminho para o módulo Python que iremos utilizar para tratar os outliers\n",
    "sys.path.append(os.path.abspath(os.path.join('modulos')))\n",
    "from estrategia1 import *\n",
    "from estrategia2 import *\n",
    "from estrategia3 import *"
   ]
  },
  {
   "cell_type": "code",
   "execution_count": 4,
   "id": "734937ac",
   "metadata": {},
   "outputs": [
    {
     "name": "stdout",
     "output_type": "stream",
     "text": [
      "Author: Rodrigo Xavier dos Santos\n",
      "\n",
      "seaborn   : 0.11.2\n",
      "numpy     : 1.21.5\n",
      "sys       : 3.9.12 (main, Apr  4 2022, 05:22:27) [MSC v.1916 64 bit (AMD64)]\n",
      "matplotlib: 3.5.1\n",
      "pandas    : 1.2.4\n",
      "\n"
     ]
    }
   ],
   "source": [
    "# Versões dos pacotes usados neste jupyter notebook\n",
    "%reload_ext watermark\n",
    "%watermark -a \"Rodrigo Xavier dos Santos\" --iversions"
   ]
  },
  {
   "cell_type": "markdown",
   "id": "fe69e1d0",
   "metadata": {},
   "source": [
    "<a id='carregando-dados'></a>\n",
    "## <font color=\"#0080ff\"> 2 - Carregando os dados</font>\n",
    "<hr color=\"#F5F5F5\" size=\"1\">"
   ]
  },
  {
   "cell_type": "code",
   "execution_count": 60,
   "id": "e022cd40",
   "metadata": {},
   "outputs": [],
   "source": [
    "# Carrega os dados\n",
    "dados = pd.read_csv('dados/acidentes2022.csv' , sep = ';', engine = 'python', encoding='iso-8859-1')"
   ]
  },
  {
   "cell_type": "code",
   "execution_count": 61,
   "id": "f936895f",
   "metadata": {},
   "outputs": [
    {
     "data": {
      "text/plain": [
       "(376770, 37)"
      ]
     },
     "execution_count": 61,
     "metadata": {},
     "output_type": "execute_result"
    }
   ],
   "source": [
    "#Quantidade de linhas e colunas\n",
    "dados.shape"
   ]
  },
  {
   "cell_type": "code",
   "execution_count": 62,
   "id": "010baea2",
   "metadata": {},
   "outputs": [],
   "source": [
    "#habilitar o pandas a mostrar as 36 colunas, onde geralmente traz um resumo.\n",
    "pd.set_option(\"display.max_columns\", 36)"
   ]
  },
  {
   "cell_type": "code",
   "execution_count": 63,
   "id": "ca4a24c3",
   "metadata": {},
   "outputs": [
    {
     "data": {
      "text/html": [
       "<div>\n",
       "<style scoped>\n",
       "    .dataframe tbody tr th:only-of-type {\n",
       "        vertical-align: middle;\n",
       "    }\n",
       "\n",
       "    .dataframe tbody tr th {\n",
       "        vertical-align: top;\n",
       "    }\n",
       "\n",
       "    .dataframe thead th {\n",
       "        text-align: right;\n",
       "    }\n",
       "</style>\n",
       "<table border=\"1\" class=\"dataframe\">\n",
       "  <thead>\n",
       "    <tr style=\"text-align: right;\">\n",
       "      <th></th>\n",
       "      <th>id</th>\n",
       "      <th>pesid</th>\n",
       "      <th>data_inversa</th>\n",
       "      <th>dia_semana</th>\n",
       "      <th>horario</th>\n",
       "      <th>uf</th>\n",
       "      <th>br</th>\n",
       "      <th>km</th>\n",
       "      <th>municipio</th>\n",
       "      <th>causa_principal</th>\n",
       "      <th>causa_acidente</th>\n",
       "      <th>ordem_tipo_acidente</th>\n",
       "      <th>tipo_acidente</th>\n",
       "      <th>classificacao_acidente</th>\n",
       "      <th>fase_dia</th>\n",
       "      <th>sentido_via</th>\n",
       "      <th>condicao_metereologica</th>\n",
       "      <th>tipo_pista</th>\n",
       "      <th>...</th>\n",
       "      <th>uso_solo</th>\n",
       "      <th>id_veiculo</th>\n",
       "      <th>tipo_veiculo</th>\n",
       "      <th>marca</th>\n",
       "      <th>ano_fabricacao_veiculo</th>\n",
       "      <th>tipo_envolvido</th>\n",
       "      <th>estado_fisico</th>\n",
       "      <th>idade</th>\n",
       "      <th>sexo</th>\n",
       "      <th>ilesos</th>\n",
       "      <th>feridos_leves</th>\n",
       "      <th>feridos_graves</th>\n",
       "      <th>mortos</th>\n",
       "      <th>latitude</th>\n",
       "      <th>longitude</th>\n",
       "      <th>regional</th>\n",
       "      <th>delegacia</th>\n",
       "      <th>uop</th>\n",
       "    </tr>\n",
       "  </thead>\n",
       "  <tbody>\n",
       "    <tr>\n",
       "      <th>0</th>\n",
       "      <td>405147</td>\n",
       "      <td>911178.0</td>\n",
       "      <td>2022-01-01</td>\n",
       "      <td>sábado</td>\n",
       "      <td>00:10:00</td>\n",
       "      <td>CE</td>\n",
       "      <td>222.0</td>\n",
       "      <td>2,8</td>\n",
       "      <td>FORTALEZA</td>\n",
       "      <td>Sim</td>\n",
       "      <td>Ingestão de álcool pelo condutor</td>\n",
       "      <td>1</td>\n",
       "      <td>Colisão transversal</td>\n",
       "      <td>Com Vítimas Feridas</td>\n",
       "      <td>Plena Noite</td>\n",
       "      <td>Crescente</td>\n",
       "      <td>Céu Claro</td>\n",
       "      <td>Múltipla</td>\n",
       "      <td>...</td>\n",
       "      <td>Sim</td>\n",
       "      <td>734116</td>\n",
       "      <td>Automóvel</td>\n",
       "      <td>CHEV/ONIX PLUS JOY BLACK/ONIX PLUS JOY BLACK</td>\n",
       "      <td>2021.0</td>\n",
       "      <td>Condutor</td>\n",
       "      <td>Ileso</td>\n",
       "      <td>45.0</td>\n",
       "      <td>Masculino</td>\n",
       "      <td>1</td>\n",
       "      <td>0</td>\n",
       "      <td>0</td>\n",
       "      <td>0</td>\n",
       "      <td>-3,73911117</td>\n",
       "      <td>-38,58687498</td>\n",
       "      <td>SPRF-CE</td>\n",
       "      <td>DEL01-CE</td>\n",
       "      <td>UOP01-DEL01-CE</td>\n",
       "    </tr>\n",
       "    <tr>\n",
       "      <th>1</th>\n",
       "      <td>405147</td>\n",
       "      <td>911179.0</td>\n",
       "      <td>2022-01-01</td>\n",
       "      <td>sábado</td>\n",
       "      <td>00:10:00</td>\n",
       "      <td>CE</td>\n",
       "      <td>222.0</td>\n",
       "      <td>2,8</td>\n",
       "      <td>FORTALEZA</td>\n",
       "      <td>Sim</td>\n",
       "      <td>Ingestão de álcool pelo condutor</td>\n",
       "      <td>1</td>\n",
       "      <td>Colisão transversal</td>\n",
       "      <td>Com Vítimas Feridas</td>\n",
       "      <td>Plena Noite</td>\n",
       "      <td>Crescente</td>\n",
       "      <td>Céu Claro</td>\n",
       "      <td>Múltipla</td>\n",
       "      <td>...</td>\n",
       "      <td>Sim</td>\n",
       "      <td>734115</td>\n",
       "      <td>Motocicleta</td>\n",
       "      <td>HONDA/CG150 TITAN MIX ES/CG150 TITAN MIX ES</td>\n",
       "      <td>2009.0</td>\n",
       "      <td>Condutor</td>\n",
       "      <td>Lesões Graves</td>\n",
       "      <td>59.0</td>\n",
       "      <td>Masculino</td>\n",
       "      <td>0</td>\n",
       "      <td>0</td>\n",
       "      <td>1</td>\n",
       "      <td>0</td>\n",
       "      <td>-3,73911117</td>\n",
       "      <td>-38,58687498</td>\n",
       "      <td>SPRF-CE</td>\n",
       "      <td>DEL01-CE</td>\n",
       "      <td>UOP01-DEL01-CE</td>\n",
       "    </tr>\n",
       "    <tr>\n",
       "      <th>2</th>\n",
       "      <td>405149</td>\n",
       "      <td>912796.0</td>\n",
       "      <td>2022-01-01</td>\n",
       "      <td>sábado</td>\n",
       "      <td>01:30:00</td>\n",
       "      <td>PE</td>\n",
       "      <td>104.0</td>\n",
       "      <td>63</td>\n",
       "      <td>CARUARU</td>\n",
       "      <td>Não</td>\n",
       "      <td>Reação tardia ou ineficiente do condutor</td>\n",
       "      <td>2</td>\n",
       "      <td>Queda de ocupante de veículo</td>\n",
       "      <td>Com Vítimas Feridas</td>\n",
       "      <td>Plena Noite</td>\n",
       "      <td>Crescente</td>\n",
       "      <td>Céu Claro</td>\n",
       "      <td>Dupla</td>\n",
       "      <td>...</td>\n",
       "      <td>Sim</td>\n",
       "      <td>734109</td>\n",
       "      <td>Motocicleta</td>\n",
       "      <td>YAMAHA/FACTOR YBR125 K/FACTOR YBR125 K</td>\n",
       "      <td>2009.0</td>\n",
       "      <td>Passageiro</td>\n",
       "      <td>Lesões Leves</td>\n",
       "      <td>25.0</td>\n",
       "      <td>Feminino</td>\n",
       "      <td>0</td>\n",
       "      <td>1</td>\n",
       "      <td>0</td>\n",
       "      <td>0</td>\n",
       "      <td>-8,2698</td>\n",
       "      <td>-35,9803</td>\n",
       "      <td>SPRF-PE</td>\n",
       "      <td>DEL02-PE</td>\n",
       "      <td>UOP01-DEL02-PE</td>\n",
       "    </tr>\n",
       "    <tr>\n",
       "      <th>3</th>\n",
       "      <td>405149</td>\n",
       "      <td>912793.0</td>\n",
       "      <td>2022-01-01</td>\n",
       "      <td>sábado</td>\n",
       "      <td>01:30:00</td>\n",
       "      <td>PE</td>\n",
       "      <td>104.0</td>\n",
       "      <td>63</td>\n",
       "      <td>CARUARU</td>\n",
       "      <td>Não</td>\n",
       "      <td>Reação tardia ou ineficiente do condutor</td>\n",
       "      <td>2</td>\n",
       "      <td>Queda de ocupante de veículo</td>\n",
       "      <td>Com Vítimas Feridas</td>\n",
       "      <td>Plena Noite</td>\n",
       "      <td>Crescente</td>\n",
       "      <td>Céu Claro</td>\n",
       "      <td>Dupla</td>\n",
       "      <td>...</td>\n",
       "      <td>Sim</td>\n",
       "      <td>734109</td>\n",
       "      <td>Motocicleta</td>\n",
       "      <td>YAMAHA/FACTOR YBR125 K/FACTOR YBR125 K</td>\n",
       "      <td>2009.0</td>\n",
       "      <td>Condutor</td>\n",
       "      <td>Lesões Graves</td>\n",
       "      <td>37.0</td>\n",
       "      <td>Masculino</td>\n",
       "      <td>0</td>\n",
       "      <td>0</td>\n",
       "      <td>1</td>\n",
       "      <td>0</td>\n",
       "      <td>-8,2698</td>\n",
       "      <td>-35,9803</td>\n",
       "      <td>SPRF-PE</td>\n",
       "      <td>DEL02-PE</td>\n",
       "      <td>UOP01-DEL02-PE</td>\n",
       "    </tr>\n",
       "    <tr>\n",
       "      <th>4</th>\n",
       "      <td>405149</td>\n",
       "      <td>913204.0</td>\n",
       "      <td>2022-01-01</td>\n",
       "      <td>sábado</td>\n",
       "      <td>01:30:00</td>\n",
       "      <td>PE</td>\n",
       "      <td>104.0</td>\n",
       "      <td>63</td>\n",
       "      <td>CARUARU</td>\n",
       "      <td>Não</td>\n",
       "      <td>Reação tardia ou ineficiente do condutor</td>\n",
       "      <td>2</td>\n",
       "      <td>Queda de ocupante de veículo</td>\n",
       "      <td>Com Vítimas Feridas</td>\n",
       "      <td>Plena Noite</td>\n",
       "      <td>Crescente</td>\n",
       "      <td>Céu Claro</td>\n",
       "      <td>Dupla</td>\n",
       "      <td>...</td>\n",
       "      <td>Sim</td>\n",
       "      <td>734108</td>\n",
       "      <td>Automóvel</td>\n",
       "      <td>VW/FOX CONNECT MB/FOX CONNECT MB</td>\n",
       "      <td>2019.0</td>\n",
       "      <td>Passageiro</td>\n",
       "      <td>Não Informado</td>\n",
       "      <td>NaN</td>\n",
       "      <td>Não Informado</td>\n",
       "      <td>0</td>\n",
       "      <td>0</td>\n",
       "      <td>0</td>\n",
       "      <td>0</td>\n",
       "      <td>-8,2698</td>\n",
       "      <td>-35,9803</td>\n",
       "      <td>SPRF-PE</td>\n",
       "      <td>DEL02-PE</td>\n",
       "      <td>UOP01-DEL02-PE</td>\n",
       "    </tr>\n",
       "  </tbody>\n",
       "</table>\n",
       "<p>5 rows × 37 columns</p>\n",
       "</div>"
      ],
      "text/plain": [
       "       id     pesid data_inversa dia_semana   horario  uf     br   km  \\\n",
       "0  405147  911178.0   2022-01-01     sábado  00:10:00  CE  222.0  2,8   \n",
       "1  405147  911179.0   2022-01-01     sábado  00:10:00  CE  222.0  2,8   \n",
       "2  405149  912796.0   2022-01-01     sábado  01:30:00  PE  104.0   63   \n",
       "3  405149  912793.0   2022-01-01     sábado  01:30:00  PE  104.0   63   \n",
       "4  405149  913204.0   2022-01-01     sábado  01:30:00  PE  104.0   63   \n",
       "\n",
       "   municipio causa_principal                            causa_acidente  \\\n",
       "0  FORTALEZA             Sim          Ingestão de álcool pelo condutor   \n",
       "1  FORTALEZA             Sim          Ingestão de álcool pelo condutor   \n",
       "2    CARUARU             Não  Reação tardia ou ineficiente do condutor   \n",
       "3    CARUARU             Não  Reação tardia ou ineficiente do condutor   \n",
       "4    CARUARU             Não  Reação tardia ou ineficiente do condutor   \n",
       "\n",
       "   ordem_tipo_acidente                 tipo_acidente classificacao_acidente  \\\n",
       "0                    1           Colisão transversal    Com Vítimas Feridas   \n",
       "1                    1           Colisão transversal    Com Vítimas Feridas   \n",
       "2                    2  Queda de ocupante de veículo    Com Vítimas Feridas   \n",
       "3                    2  Queda de ocupante de veículo    Com Vítimas Feridas   \n",
       "4                    2  Queda de ocupante de veículo    Com Vítimas Feridas   \n",
       "\n",
       "      fase_dia sentido_via condicao_metereologica tipo_pista  ... uso_solo  \\\n",
       "0  Plena Noite   Crescente              Céu Claro   Múltipla  ...      Sim   \n",
       "1  Plena Noite   Crescente              Céu Claro   Múltipla  ...      Sim   \n",
       "2  Plena Noite   Crescente              Céu Claro      Dupla  ...      Sim   \n",
       "3  Plena Noite   Crescente              Céu Claro      Dupla  ...      Sim   \n",
       "4  Plena Noite   Crescente              Céu Claro      Dupla  ...      Sim   \n",
       "\n",
       "  id_veiculo  tipo_veiculo                                         marca  \\\n",
       "0     734116     Automóvel  CHEV/ONIX PLUS JOY BLACK/ONIX PLUS JOY BLACK   \n",
       "1     734115   Motocicleta   HONDA/CG150 TITAN MIX ES/CG150 TITAN MIX ES   \n",
       "2     734109   Motocicleta        YAMAHA/FACTOR YBR125 K/FACTOR YBR125 K   \n",
       "3     734109   Motocicleta        YAMAHA/FACTOR YBR125 K/FACTOR YBR125 K   \n",
       "4     734108     Automóvel              VW/FOX CONNECT MB/FOX CONNECT MB   \n",
       "\n",
       "  ano_fabricacao_veiculo  tipo_envolvido  estado_fisico idade           sexo  \\\n",
       "0                 2021.0        Condutor          Ileso  45.0      Masculino   \n",
       "1                 2009.0        Condutor  Lesões Graves  59.0      Masculino   \n",
       "2                 2009.0      Passageiro   Lesões Leves  25.0       Feminino   \n",
       "3                 2009.0        Condutor  Lesões Graves  37.0      Masculino   \n",
       "4                 2019.0      Passageiro  Não Informado   NaN  Não Informado   \n",
       "\n",
       "  ilesos  feridos_leves  feridos_graves  mortos     latitude     longitude  \\\n",
       "0      1              0               0       0  -3,73911117  -38,58687498   \n",
       "1      0              0               1       0  -3,73911117  -38,58687498   \n",
       "2      0              1               0       0      -8,2698      -35,9803   \n",
       "3      0              0               1       0      -8,2698      -35,9803   \n",
       "4      0              0               0       0      -8,2698      -35,9803   \n",
       "\n",
       "  regional delegacia             uop  \n",
       "0  SPRF-CE  DEL01-CE  UOP01-DEL01-CE  \n",
       "1  SPRF-CE  DEL01-CE  UOP01-DEL01-CE  \n",
       "2  SPRF-PE  DEL02-PE  UOP01-DEL02-PE  \n",
       "3  SPRF-PE  DEL02-PE  UOP01-DEL02-PE  \n",
       "4  SPRF-PE  DEL02-PE  UOP01-DEL02-PE  \n",
       "\n",
       "[5 rows x 37 columns]"
      ]
     },
     "execution_count": 63,
     "metadata": {},
     "output_type": "execute_result"
    }
   ],
   "source": [
    "#Visualização da tabela\n",
    "dados.head()"
   ]
  },
  {
   "cell_type": "code",
   "execution_count": 64,
   "id": "d9471fb3",
   "metadata": {},
   "outputs": [
    {
     "name": "stdout",
     "output_type": "stream",
     "text": [
      "<class 'pandas.core.frame.DataFrame'>\n",
      "RangeIndex: 376770 entries, 0 to 376769\n",
      "Data columns (total 37 columns):\n",
      " #   Column                  Non-Null Count   Dtype  \n",
      "---  ------                  --------------   -----  \n",
      " 0   id                      376770 non-null  int64  \n",
      " 1   pesid                   341560 non-null  float64\n",
      " 2   data_inversa            376770 non-null  object \n",
      " 3   dia_semana              376770 non-null  object \n",
      " 4   horario                 376770 non-null  object \n",
      " 5   uf                      376770 non-null  object \n",
      " 6   br                      375213 non-null  float64\n",
      " 7   km                      375213 non-null  object \n",
      " 8   municipio               376770 non-null  object \n",
      " 9   causa_principal         376770 non-null  object \n",
      " 10  causa_acidente          376770 non-null  object \n",
      " 11  ordem_tipo_acidente     376770 non-null  int64  \n",
      " 12  tipo_acidente           376770 non-null  object \n",
      " 13  classificacao_acidente  376770 non-null  object \n",
      " 14  fase_dia                376770 non-null  object \n",
      " 15  sentido_via             376770 non-null  object \n",
      " 16  condicao_metereologica  376770 non-null  object \n",
      " 17  tipo_pista              376770 non-null  object \n",
      " 18  tracado_via             376770 non-null  object \n",
      " 19  uso_solo                376770 non-null  object \n",
      " 20  id_veiculo              376770 non-null  int64  \n",
      " 21  tipo_veiculo            376770 non-null  object \n",
      " 22  marca                   359749 non-null  object \n",
      " 23  ano_fabricacao_veiculo  355296 non-null  float64\n",
      " 24  tipo_envolvido          376770 non-null  object \n",
      " 25  estado_fisico           376770 non-null  object \n",
      " 26  idade                   297633 non-null  float64\n",
      " 27  sexo                    376770 non-null  object \n",
      " 28  ilesos                  376770 non-null  int64  \n",
      " 29  feridos_leves           376770 non-null  int64  \n",
      " 30  feridos_graves          376770 non-null  int64  \n",
      " 31  mortos                  376770 non-null  int64  \n",
      " 32  latitude                376770 non-null  object \n",
      " 33  longitude               376770 non-null  object \n",
      " 34  regional                376753 non-null  object \n",
      " 35  delegacia               371373 non-null  object \n",
      " 36  uop                     376440 non-null  object \n",
      "dtypes: float64(4), int64(7), object(26)\n",
      "memory usage: 106.4+ MB\n"
     ]
    }
   ],
   "source": [
    "# Informações gerais dos dados\n",
    "dados.info()"
   ]
  },
  {
   "cell_type": "markdown",
   "id": "8506de1b",
   "metadata": {},
   "source": [
    "<div class=\"alert alert-success\"> \n",
    "<strong><div style=\"color: rgb(0, 0, 0);\">💡 </div></strong> <br>\n",
    "     <div style=\"color: rgb(0, 0, 0);\">  → Observando as colunas, podemos perceber que as colunas <strong>\"data_inversa\" e \"horario\"</strong> são, na verdade, valores de data e hora, embora sejam rotuladas como objetos pelo pandas. Além dessas duas colunas, temos quatro colunas que não serão necessárias em nossa análise, <strong>\"ID\", \"id_veiculo\", \"pesid\" e \"uop\"</strong>. Portanto, vamos <strong>converter duas colunas e excluir outras quatro</strong>. <br>\n",
    "         \n",
    "→ Como o dataset não tinha um dicionário de dados, não foi possível identificar do que se refere as colunas <strong>\"pesid\" e \"uop\"</strong>.</div>         \n",
    "</div>"
   ]
  },
  {
   "cell_type": "code",
   "execution_count": 65,
   "id": "20784f60",
   "metadata": {},
   "outputs": [],
   "source": [
    "# Converte para datetime as colunas \"data_inversa\" e \"horario\"\n",
    "convert_to_datetime(dados, ['data_inversa', 'horario'])"
   ]
  },
  {
   "cell_type": "code",
   "execution_count": 66,
   "id": "018b522d",
   "metadata": {},
   "outputs": [],
   "source": [
    "# Não usaremos a coluna ID. Vamos removê-la.\n",
    "dados.drop([\"id\"], axis = 1, inplace = True)"
   ]
  },
  {
   "cell_type": "code",
   "execution_count": 67,
   "id": "847d8262",
   "metadata": {},
   "outputs": [],
   "source": [
    "# Não usaremos a coluna id_veiculo. Vamos removê-la.\n",
    "dados.drop([\"id_veiculo\"], axis = 1, inplace = True)"
   ]
  },
  {
   "cell_type": "code",
   "execution_count": 68,
   "id": "f2902f2c",
   "metadata": {},
   "outputs": [],
   "source": [
    "# Não usaremos a coluna pesid.\n",
    "dados.drop([\"pesid\"], axis = 1, inplace = True)"
   ]
  },
  {
   "cell_type": "code",
   "execution_count": 69,
   "id": "8af092d9",
   "metadata": {},
   "outputs": [],
   "source": [
    "# Não usaremos a coluna uop. Vamos removê-la.\n",
    "dados.drop([\"uop\"], axis = 1, inplace = True)"
   ]
  },
  {
   "cell_type": "markdown",
   "id": "2b6d7af4",
   "metadata": {},
   "source": [
    "<div class=\"alert alert-warning\"> \n",
    "<strong><div style=\"color: rgb(0, 0, 0);\">Verificando se existe alguma varíavel numérica que na verdade seja dados booleanos (True / False)</div></strong>\n",
    "</div>"
   ]
  },
  {
   "cell_type": "code",
   "execution_count": 70,
   "id": "f5068b4e",
   "metadata": {},
   "outputs": [
    {
     "data": {
      "text/html": [
       "<div>\n",
       "<style scoped>\n",
       "    .dataframe tbody tr th:only-of-type {\n",
       "        vertical-align: middle;\n",
       "    }\n",
       "\n",
       "    .dataframe tbody tr th {\n",
       "        vertical-align: top;\n",
       "    }\n",
       "\n",
       "    .dataframe thead th {\n",
       "        text-align: right;\n",
       "    }\n",
       "</style>\n",
       "<table border=\"1\" class=\"dataframe\">\n",
       "  <thead>\n",
       "    <tr style=\"text-align: right;\">\n",
       "      <th></th>\n",
       "      <th>br</th>\n",
       "      <th>ordem_tipo_acidente</th>\n",
       "      <th>ano_fabricacao_veiculo</th>\n",
       "      <th>idade</th>\n",
       "      <th>ilesos</th>\n",
       "      <th>feridos_leves</th>\n",
       "      <th>feridos_graves</th>\n",
       "      <th>mortos</th>\n",
       "    </tr>\n",
       "  </thead>\n",
       "  <tbody>\n",
       "    <tr>\n",
       "      <th>count</th>\n",
       "      <td>375213.000000</td>\n",
       "      <td>376770.000000</td>\n",
       "      <td>355296.000000</td>\n",
       "      <td>297633.000000</td>\n",
       "      <td>376770.000000</td>\n",
       "      <td>376770.000000</td>\n",
       "      <td>376770.000000</td>\n",
       "      <td>376770.000000</td>\n",
       "    </tr>\n",
       "    <tr>\n",
       "      <th>mean</th>\n",
       "      <td>216.258829</td>\n",
       "      <td>1.710526</td>\n",
       "      <td>2011.548056</td>\n",
       "      <td>39.157022</td>\n",
       "      <td>0.355464</td>\n",
       "      <td>0.298182</td>\n",
       "      <td>0.113772</td>\n",
       "      <td>0.048650</td>\n",
       "    </tr>\n",
       "    <tr>\n",
       "      <th>std</th>\n",
       "      <td>127.503385</td>\n",
       "      <td>0.986313</td>\n",
       "      <td>7.890299</td>\n",
       "      <td>34.278203</td>\n",
       "      <td>0.478654</td>\n",
       "      <td>0.457460</td>\n",
       "      <td>0.317535</td>\n",
       "      <td>0.215136</td>\n",
       "    </tr>\n",
       "    <tr>\n",
       "      <th>min</th>\n",
       "      <td>10.000000</td>\n",
       "      <td>1.000000</td>\n",
       "      <td>1900.000000</td>\n",
       "      <td>0.000000</td>\n",
       "      <td>0.000000</td>\n",
       "      <td>0.000000</td>\n",
       "      <td>0.000000</td>\n",
       "      <td>0.000000</td>\n",
       "    </tr>\n",
       "    <tr>\n",
       "      <th>25%</th>\n",
       "      <td>116.000000</td>\n",
       "      <td>1.000000</td>\n",
       "      <td>2008.000000</td>\n",
       "      <td>27.000000</td>\n",
       "      <td>0.000000</td>\n",
       "      <td>0.000000</td>\n",
       "      <td>0.000000</td>\n",
       "      <td>0.000000</td>\n",
       "    </tr>\n",
       "    <tr>\n",
       "      <th>50%</th>\n",
       "      <td>163.000000</td>\n",
       "      <td>1.000000</td>\n",
       "      <td>2013.000000</td>\n",
       "      <td>37.000000</td>\n",
       "      <td>0.000000</td>\n",
       "      <td>0.000000</td>\n",
       "      <td>0.000000</td>\n",
       "      <td>0.000000</td>\n",
       "    </tr>\n",
       "    <tr>\n",
       "      <th>75%</th>\n",
       "      <td>324.000000</td>\n",
       "      <td>2.000000</td>\n",
       "      <td>2018.000000</td>\n",
       "      <td>49.000000</td>\n",
       "      <td>1.000000</td>\n",
       "      <td>1.000000</td>\n",
       "      <td>0.000000</td>\n",
       "      <td>0.000000</td>\n",
       "    </tr>\n",
       "    <tr>\n",
       "      <th>max</th>\n",
       "      <td>495.000000</td>\n",
       "      <td>12.000000</td>\n",
       "      <td>2022.000000</td>\n",
       "      <td>2021.000000</td>\n",
       "      <td>1.000000</td>\n",
       "      <td>1.000000</td>\n",
       "      <td>1.000000</td>\n",
       "      <td>1.000000</td>\n",
       "    </tr>\n",
       "  </tbody>\n",
       "</table>\n",
       "</div>"
      ],
      "text/plain": [
       "                  br  ordem_tipo_acidente  ano_fabricacao_veiculo  \\\n",
       "count  375213.000000        376770.000000           355296.000000   \n",
       "mean      216.258829             1.710526             2011.548056   \n",
       "std       127.503385             0.986313                7.890299   \n",
       "min        10.000000             1.000000             1900.000000   \n",
       "25%       116.000000             1.000000             2008.000000   \n",
       "50%       163.000000             1.000000             2013.000000   \n",
       "75%       324.000000             2.000000             2018.000000   \n",
       "max       495.000000            12.000000             2022.000000   \n",
       "\n",
       "               idade         ilesos  feridos_leves  feridos_graves  \\\n",
       "count  297633.000000  376770.000000  376770.000000   376770.000000   \n",
       "mean       39.157022       0.355464       0.298182        0.113772   \n",
       "std        34.278203       0.478654       0.457460        0.317535   \n",
       "min         0.000000       0.000000       0.000000        0.000000   \n",
       "25%        27.000000       0.000000       0.000000        0.000000   \n",
       "50%        37.000000       0.000000       0.000000        0.000000   \n",
       "75%        49.000000       1.000000       1.000000        0.000000   \n",
       "max      2021.000000       1.000000       1.000000        1.000000   \n",
       "\n",
       "              mortos  \n",
       "count  376770.000000  \n",
       "mean        0.048650  \n",
       "std         0.215136  \n",
       "min         0.000000  \n",
       "25%         0.000000  \n",
       "50%         0.000000  \n",
       "75%         0.000000  \n",
       "max         1.000000  "
      ]
     },
     "execution_count": 70,
     "metadata": {},
     "output_type": "execute_result"
    }
   ],
   "source": [
    "# Descrevendo os dados numéricos\n",
    "dados.describe()"
   ]
  },
  {
   "cell_type": "code",
   "execution_count": 71,
   "id": "62357ab3",
   "metadata": {},
   "outputs": [
    {
     "data": {
      "text/plain": [
       "116.0    54436\n",
       "101.0    43541\n",
       "163.0    19881\n",
       "153.0    17425\n",
       "40.0     16983\n",
       "         ...  \n",
       "265.0        9\n",
       "437.0        4\n",
       "484.0        4\n",
       "434.0        2\n",
       "342.0        2\n",
       "Name: br, Length: 115, dtype: int64"
      ]
     },
     "execution_count": 71,
     "metadata": {},
     "output_type": "execute_result"
    }
   ],
   "source": [
    "# Registros para cada dado da coluna br\n",
    "dados.br.value_counts()"
   ]
  },
  {
   "cell_type": "markdown",
   "id": "3463427f",
   "metadata": {},
   "source": [
    "<div class=\"alert alert-success\"> \n",
    "<strong><div style=\"color: rgb(0, 0, 0);\">💡 </div></strong> <br>\n",
    "    <div style=\"color: rgb(0, 0, 0);\">  → A varíavel <strong>br</strong> não necessita ser do tipo numérico, iremos transformar em categórico.</div>         \n",
    "</div>"
   ]
  },
  {
   "cell_type": "code",
   "execution_count": 72,
   "id": "6d958a90",
   "metadata": {},
   "outputs": [],
   "source": [
    "# Irei converter a variável \"br\" em object\n",
    "dados.br = dados.br.astype(\"object\")"
   ]
  },
  {
   "cell_type": "code",
   "execution_count": 73,
   "id": "29d528b9",
   "metadata": {},
   "outputs": [
    {
     "data": {
      "text/plain": [
       "1     204673\n",
       "2     105169\n",
       "3      48917\n",
       "4      12181\n",
       "5       3494\n",
       "6       1093\n",
       "7        569\n",
       "8        339\n",
       "9        174\n",
       "10       101\n",
       "11        30\n",
       "12        30\n",
       "Name: ordem_tipo_acidente, dtype: int64"
      ]
     },
     "execution_count": 73,
     "metadata": {},
     "output_type": "execute_result"
    }
   ],
   "source": [
    "# Registros para cada dado da coluna ordem_tipo_acidente\n",
    "dados.ordem_tipo_acidente.value_counts()"
   ]
  },
  {
   "cell_type": "code",
   "execution_count": 74,
   "id": "7950febd",
   "metadata": {},
   "outputs": [
    {
     "data": {
      "text/plain": [
       "28.0      7951\n",
       "34.0      7944\n",
       "35.0      7742\n",
       "40.0      7675\n",
       "33.0      7654\n",
       "          ... \n",
       "112.0        1\n",
       "256.0        1\n",
       "222.0        1\n",
       "935.0        1\n",
       "1022.0       1\n",
       "Name: idade, Length: 114, dtype: int64"
      ]
     },
     "execution_count": 74,
     "metadata": {},
     "output_type": "execute_result"
    }
   ],
   "source": [
    "# Registros para cada dado da coluna idade\n",
    "dados.idade.value_counts()"
   ]
  },
  {
   "cell_type": "markdown",
   "id": "3a6a0f6c",
   "metadata": {},
   "source": [
    "<div class=\"alert alert-success\"> \n",
    "<strong><div style=\"color: rgb(0, 0, 0);\">💡 </div></strong> <br>\n",
    "    <div style=\"color: rgb(0, 0, 0);\">  → A varíavel <strong>idade</strong> tem alguns valores que indicam erro no registro dos dados, com idades acima de 95 anos. Irei resolver mais a frente.</div>         \n",
    "</div>"
   ]
  },
  {
   "cell_type": "code",
   "execution_count": 79,
   "id": "1e48b1a8",
   "metadata": {},
   "outputs": [
    {
     "data": {
      "text/plain": [
       "0    242842\n",
       "1    133928\n",
       "Name: ilesos, dtype: int64"
      ]
     },
     "execution_count": 79,
     "metadata": {},
     "output_type": "execute_result"
    }
   ],
   "source": [
    "# Registros para cada dado da coluna ilesos\n",
    "dados.ilesos.value_counts()"
   ]
  },
  {
   "cell_type": "code",
   "execution_count": 80,
   "id": "56ad00bb",
   "metadata": {},
   "outputs": [
    {
     "data": {
      "text/plain": [
       "0    264424\n",
       "1    112346\n",
       "Name: feridos_leves, dtype: int64"
      ]
     },
     "execution_count": 80,
     "metadata": {},
     "output_type": "execute_result"
    }
   ],
   "source": [
    "# Registros para cada dado da coluna feridos_leves\n",
    "dados.feridos_leves.value_counts()"
   ]
  },
  {
   "cell_type": "code",
   "execution_count": 81,
   "id": "f27f9e65",
   "metadata": {},
   "outputs": [
    {
     "data": {
      "text/plain": [
       "0    333904\n",
       "1     42866\n",
       "Name: feridos_graves, dtype: int64"
      ]
     },
     "execution_count": 81,
     "metadata": {},
     "output_type": "execute_result"
    }
   ],
   "source": [
    "# Registros para cada dado da coluna feridos_graves\n",
    "dados.feridos_graves.value_counts()"
   ]
  },
  {
   "cell_type": "code",
   "execution_count": 82,
   "id": "d477f12d",
   "metadata": {},
   "outputs": [
    {
     "data": {
      "text/plain": [
       "0    358440\n",
       "1     18330\n",
       "Name: mortos, dtype: int64"
      ]
     },
     "execution_count": 82,
     "metadata": {},
     "output_type": "execute_result"
    }
   ],
   "source": [
    "# Registros para cada dado da coluna mortos\n",
    "dados.mortos.value_counts()"
   ]
  },
  {
   "cell_type": "markdown",
   "id": "77ebefec",
   "metadata": {},
   "source": [
    "<div class=\"alert alert-success\"> \n",
    "<strong><div style=\"color: rgb(0, 0, 0);\">💡 </div></strong> <br>\n",
    "     <div style=\"color: rgb(0, 0, 0);\">  → As variáveis <strong>\"ilesos\", \"feridos_leves\", \"feridos_graves\" e \"mortos\"</strong> são do tipo booleano. <strong>Irei transformar para o tipo object</strong>. E a varíável <strong>\"ordem_tipo_acidente\" irei excluir</strong>, pois não é relevante para a análise de dados futura, pois a mesma não tem informações adicionais sobre as categorias representadas</strong> </strong>.</div>         \n",
    "</div>"
   ]
  },
  {
   "cell_type": "code",
   "execution_count": 83,
   "id": "4d5215cd",
   "metadata": {},
   "outputs": [],
   "source": [
    "# Agora convertemos para object a variável ilesos\n",
    "dados.ilesos = dados.ilesos.astype(\"object\")"
   ]
  },
  {
   "cell_type": "code",
   "execution_count": 84,
   "id": "35747ce8",
   "metadata": {},
   "outputs": [],
   "source": [
    "# Agora convertemos para object a variável feridos_leves\n",
    "dados.feridos_leves = dados.feridos_leves.astype(\"object\")"
   ]
  },
  {
   "cell_type": "code",
   "execution_count": 85,
   "id": "5a1dc862",
   "metadata": {},
   "outputs": [],
   "source": [
    "# Agora convertemos para object a variável feridos_graves\n",
    "dados.feridos_graves = dados.feridos_graves.astype(\"object\")"
   ]
  },
  {
   "cell_type": "code",
   "execution_count": 86,
   "id": "e1aa3b8f",
   "metadata": {},
   "outputs": [],
   "source": [
    "# Agora convertemos para object a variável mortos\n",
    "dados.mortos = dados.mortos.astype(\"object\")"
   ]
  },
  {
   "cell_type": "code",
   "execution_count": 87,
   "id": "5f224dd0",
   "metadata": {},
   "outputs": [],
   "source": [
    "# Não usaremos a coluna ordem_tipo_acidente. Vamos removê-la.\n",
    "dados.drop([\"ordem_tipo_acidente\"], axis = 1, inplace = True)"
   ]
  },
  {
   "cell_type": "markdown",
   "id": "8828c1a8",
   "metadata": {},
   "source": [
    "<div class=\"alert alert-warning\"> \n",
    "<strong><div style=\"color: rgb(0, 0, 0);\">Verificando se temos dados duplicados</div></strong>\n",
    "</div>"
   ]
  },
  {
   "cell_type": "code",
   "execution_count": 88,
   "id": "fe3f4e5d",
   "metadata": {},
   "outputs": [
    {
     "data": {
      "text/plain": [
       "0         False\n",
       "1         False\n",
       "2         False\n",
       "3         False\n",
       "4         False\n",
       "          ...  \n",
       "376765    False\n",
       "376766    False\n",
       "376767    False\n",
       "376768    False\n",
       "376769    False\n",
       "Length: 376770, dtype: bool"
      ]
     },
     "execution_count": 88,
     "metadata": {},
     "output_type": "execute_result"
    }
   ],
   "source": [
    "dados.duplicated()"
   ]
  },
  {
   "cell_type": "code",
   "execution_count": 89,
   "id": "2fbf3f27",
   "metadata": {},
   "outputs": [
    {
     "name": "stdout",
     "output_type": "stream",
     "text": [
      "<class 'pandas.core.frame.DataFrame'>\n",
      "RangeIndex: 376770 entries, 0 to 376769\n",
      "Data columns (total 32 columns):\n",
      " #   Column                  Non-Null Count   Dtype         \n",
      "---  ------                  --------------   -----         \n",
      " 0   data_inversa            376770 non-null  datetime64[ns]\n",
      " 1   dia_semana              376770 non-null  object        \n",
      " 2   horario                 376770 non-null  datetime64[ns]\n",
      " 3   uf                      376770 non-null  object        \n",
      " 4   br                      375213 non-null  object        \n",
      " 5   km                      375213 non-null  object        \n",
      " 6   municipio               376770 non-null  object        \n",
      " 7   causa_principal         376770 non-null  object        \n",
      " 8   causa_acidente          376770 non-null  object        \n",
      " 9   tipo_acidente           376770 non-null  object        \n",
      " 10  classificacao_acidente  376770 non-null  object        \n",
      " 11  fase_dia                376770 non-null  object        \n",
      " 12  sentido_via             376770 non-null  object        \n",
      " 13  condicao_metereologica  376770 non-null  object        \n",
      " 14  tipo_pista              376770 non-null  object        \n",
      " 15  tracado_via             376770 non-null  object        \n",
      " 16  uso_solo                376770 non-null  object        \n",
      " 17  tipo_veiculo            376770 non-null  object        \n",
      " 18  marca                   359749 non-null  object        \n",
      " 19  ano_fabricacao_veiculo  355296 non-null  float64       \n",
      " 20  tipo_envolvido          376770 non-null  object        \n",
      " 21  estado_fisico           376770 non-null  object        \n",
      " 22  idade                   297633 non-null  float64       \n",
      " 23  sexo                    376770 non-null  object        \n",
      " 24  ilesos                  376770 non-null  object        \n",
      " 25  feridos_leves           376770 non-null  object        \n",
      " 26  feridos_graves          376770 non-null  object        \n",
      " 27  mortos                  376770 non-null  object        \n",
      " 28  latitude                376770 non-null  object        \n",
      " 29  longitude               376770 non-null  object        \n",
      " 30  regional                376753 non-null  object        \n",
      " 31  delegacia               371373 non-null  object        \n",
      "dtypes: datetime64[ns](2), float64(2), object(28)\n",
      "memory usage: 92.0+ MB\n"
     ]
    }
   ],
   "source": [
    "# Informações gerais dos dados após alterações\n",
    "dados.info()"
   ]
  },
  {
   "cell_type": "code",
   "execution_count": 90,
   "id": "1c6e17dc",
   "metadata": {},
   "outputs": [
    {
     "data": {
      "text/html": [
       "<div>\n",
       "<style scoped>\n",
       "    .dataframe tbody tr th:only-of-type {\n",
       "        vertical-align: middle;\n",
       "    }\n",
       "\n",
       "    .dataframe tbody tr th {\n",
       "        vertical-align: top;\n",
       "    }\n",
       "\n",
       "    .dataframe thead th {\n",
       "        text-align: right;\n",
       "    }\n",
       "</style>\n",
       "<table border=\"1\" class=\"dataframe\">\n",
       "  <thead>\n",
       "    <tr style=\"text-align: right;\">\n",
       "      <th></th>\n",
       "      <th>dia_semana</th>\n",
       "      <th>uf</th>\n",
       "      <th>br</th>\n",
       "      <th>km</th>\n",
       "      <th>municipio</th>\n",
       "      <th>causa_principal</th>\n",
       "      <th>causa_acidente</th>\n",
       "      <th>tipo_acidente</th>\n",
       "      <th>classificacao_acidente</th>\n",
       "      <th>fase_dia</th>\n",
       "      <th>sentido_via</th>\n",
       "      <th>condicao_metereologica</th>\n",
       "      <th>tipo_pista</th>\n",
       "      <th>tracado_via</th>\n",
       "      <th>uso_solo</th>\n",
       "      <th>tipo_veiculo</th>\n",
       "      <th>marca</th>\n",
       "      <th>tipo_envolvido</th>\n",
       "      <th>estado_fisico</th>\n",
       "      <th>sexo</th>\n",
       "      <th>ilesos</th>\n",
       "      <th>feridos_leves</th>\n",
       "      <th>feridos_graves</th>\n",
       "      <th>mortos</th>\n",
       "      <th>latitude</th>\n",
       "      <th>longitude</th>\n",
       "      <th>regional</th>\n",
       "      <th>delegacia</th>\n",
       "    </tr>\n",
       "  </thead>\n",
       "  <tbody>\n",
       "    <tr>\n",
       "      <th>count</th>\n",
       "      <td>376770</td>\n",
       "      <td>376770</td>\n",
       "      <td>375213.0</td>\n",
       "      <td>375213</td>\n",
       "      <td>376770</td>\n",
       "      <td>376770</td>\n",
       "      <td>376770</td>\n",
       "      <td>376770</td>\n",
       "      <td>376770</td>\n",
       "      <td>376770</td>\n",
       "      <td>376770</td>\n",
       "      <td>376770</td>\n",
       "      <td>376770</td>\n",
       "      <td>376770</td>\n",
       "      <td>376770</td>\n",
       "      <td>376770</td>\n",
       "      <td>359749</td>\n",
       "      <td>376770</td>\n",
       "      <td>376770</td>\n",
       "      <td>376770</td>\n",
       "      <td>376770</td>\n",
       "      <td>376770</td>\n",
       "      <td>376770</td>\n",
       "      <td>376770</td>\n",
       "      <td>376770</td>\n",
       "      <td>376770</td>\n",
       "      <td>376753</td>\n",
       "      <td>371373</td>\n",
       "    </tr>\n",
       "    <tr>\n",
       "      <th>unique</th>\n",
       "      <td>7</td>\n",
       "      <td>27</td>\n",
       "      <td>115.0</td>\n",
       "      <td>6968</td>\n",
       "      <td>1748</td>\n",
       "      <td>2</td>\n",
       "      <td>72</td>\n",
       "      <td>16</td>\n",
       "      <td>3</td>\n",
       "      <td>4</td>\n",
       "      <td>3</td>\n",
       "      <td>10</td>\n",
       "      <td>3</td>\n",
       "      <td>10</td>\n",
       "      <td>2</td>\n",
       "      <td>25</td>\n",
       "      <td>6064</td>\n",
       "      <td>6</td>\n",
       "      <td>5</td>\n",
       "      <td>4</td>\n",
       "      <td>2</td>\n",
       "      <td>2</td>\n",
       "      <td>2</td>\n",
       "      <td>2</td>\n",
       "      <td>27404</td>\n",
       "      <td>27388</td>\n",
       "      <td>27</td>\n",
       "      <td>147</td>\n",
       "    </tr>\n",
       "    <tr>\n",
       "      <th>top</th>\n",
       "      <td>domingo</td>\n",
       "      <td>MG</td>\n",
       "      <td>116.0</td>\n",
       "      <td>2</td>\n",
       "      <td>CURITIBA</td>\n",
       "      <td>Sim</td>\n",
       "      <td>Reação tardia ou ineficiente do condutor</td>\n",
       "      <td>Colisão traseira</td>\n",
       "      <td>Com Vítimas Feridas</td>\n",
       "      <td>Pleno dia</td>\n",
       "      <td>Crescente</td>\n",
       "      <td>Céu Claro</td>\n",
       "      <td>Simples</td>\n",
       "      <td>Reta</td>\n",
       "      <td>Não</td>\n",
       "      <td>Automóvel</td>\n",
       "      <td>SR/RANDON SR CA/RANDON SR CA</td>\n",
       "      <td>Condutor</td>\n",
       "      <td>Ileso</td>\n",
       "      <td>Masculino</td>\n",
       "      <td>0</td>\n",
       "      <td>0</td>\n",
       "      <td>0</td>\n",
       "      <td>0</td>\n",
       "      <td>-10,735312</td>\n",
       "      <td>-62,19715</td>\n",
       "      <td>SPRF-MG</td>\n",
       "      <td>DEL01-PR</td>\n",
       "    </tr>\n",
       "    <tr>\n",
       "      <th>freq</th>\n",
       "      <td>66530</td>\n",
       "      <td>48240</td>\n",
       "      <td>54436.0</td>\n",
       "      <td>1454</td>\n",
       "      <td>5626</td>\n",
       "      <td>217115</td>\n",
       "      <td>48730</td>\n",
       "      <td>54623</td>\n",
       "      <td>269836</td>\n",
       "      <td>199463</td>\n",
       "      <td>202095</td>\n",
       "      <td>230356</td>\n",
       "      <td>211667</td>\n",
       "      <td>216139</td>\n",
       "      <td>225140</td>\n",
       "      <td>133191</td>\n",
       "      <td>5386</td>\n",
       "      <td>221554</td>\n",
       "      <td>133928</td>\n",
       "      <td>231833</td>\n",
       "      <td>242842</td>\n",
       "      <td>264424</td>\n",
       "      <td>333904</td>\n",
       "      <td>358440</td>\n",
       "      <td>672</td>\n",
       "      <td>672</td>\n",
       "      <td>48195</td>\n",
       "      <td>16719</td>\n",
       "    </tr>\n",
       "  </tbody>\n",
       "</table>\n",
       "</div>"
      ],
      "text/plain": [
       "       dia_semana      uf        br      km municipio causa_principal  \\\n",
       "count      376770  376770  375213.0  375213    376770          376770   \n",
       "unique          7      27     115.0    6968      1748               2   \n",
       "top       domingo      MG     116.0       2  CURITIBA             Sim   \n",
       "freq        66530   48240   54436.0    1454      5626          217115   \n",
       "\n",
       "                                  causa_acidente     tipo_acidente  \\\n",
       "count                                     376770            376770   \n",
       "unique                                        72                16   \n",
       "top     Reação tardia ou ineficiente do condutor  Colisão traseira   \n",
       "freq                                       48730             54623   \n",
       "\n",
       "       classificacao_acidente   fase_dia sentido_via condicao_metereologica  \\\n",
       "count                  376770     376770      376770                 376770   \n",
       "unique                      3          4           3                     10   \n",
       "top       Com Vítimas Feridas  Pleno dia   Crescente              Céu Claro   \n",
       "freq                   269836     199463      202095                 230356   \n",
       "\n",
       "       tipo_pista tracado_via uso_solo tipo_veiculo  \\\n",
       "count      376770      376770   376770       376770   \n",
       "unique          3          10        2           25   \n",
       "top       Simples        Reta      Não    Automóvel   \n",
       "freq       211667      216139   225140       133191   \n",
       "\n",
       "                               marca tipo_envolvido estado_fisico       sexo  \\\n",
       "count                         359749         376770        376770     376770   \n",
       "unique                          6064              6             5          4   \n",
       "top     SR/RANDON SR CA/RANDON SR CA       Condutor         Ileso  Masculino   \n",
       "freq                            5386         221554        133928     231833   \n",
       "\n",
       "        ilesos  feridos_leves  feridos_graves  mortos    latitude  longitude  \\\n",
       "count   376770         376770          376770  376770      376770     376770   \n",
       "unique       2              2               2       2       27404      27388   \n",
       "top          0              0               0       0  -10,735312  -62,19715   \n",
       "freq    242842         264424          333904  358440         672        672   \n",
       "\n",
       "       regional delegacia  \n",
       "count    376753    371373  \n",
       "unique       27       147  \n",
       "top     SPRF-MG  DEL01-PR  \n",
       "freq      48195     16719  "
      ]
     },
     "execution_count": 90,
     "metadata": {},
     "output_type": "execute_result"
    }
   ],
   "source": [
    "# Descrevendo os dados não numéricos\n",
    "dados.describe(include = object)"
   ]
  },
  {
   "cell_type": "code",
   "execution_count": 91,
   "id": "c3a297e4",
   "metadata": {},
   "outputs": [
    {
     "data": {
      "text/html": [
       "<div>\n",
       "<style scoped>\n",
       "    .dataframe tbody tr th:only-of-type {\n",
       "        vertical-align: middle;\n",
       "    }\n",
       "\n",
       "    .dataframe tbody tr th {\n",
       "        vertical-align: top;\n",
       "    }\n",
       "\n",
       "    .dataframe thead th {\n",
       "        text-align: right;\n",
       "    }\n",
       "</style>\n",
       "<table border=\"1\" class=\"dataframe\">\n",
       "  <thead>\n",
       "    <tr style=\"text-align: right;\">\n",
       "      <th></th>\n",
       "      <th>ano_fabricacao_veiculo</th>\n",
       "      <th>idade</th>\n",
       "    </tr>\n",
       "  </thead>\n",
       "  <tbody>\n",
       "    <tr>\n",
       "      <th>count</th>\n",
       "      <td>355296.000000</td>\n",
       "      <td>297633.000000</td>\n",
       "    </tr>\n",
       "    <tr>\n",
       "      <th>mean</th>\n",
       "      <td>2011.548056</td>\n",
       "      <td>39.157022</td>\n",
       "    </tr>\n",
       "    <tr>\n",
       "      <th>std</th>\n",
       "      <td>7.890299</td>\n",
       "      <td>34.278203</td>\n",
       "    </tr>\n",
       "    <tr>\n",
       "      <th>min</th>\n",
       "      <td>1900.000000</td>\n",
       "      <td>0.000000</td>\n",
       "    </tr>\n",
       "    <tr>\n",
       "      <th>25%</th>\n",
       "      <td>2008.000000</td>\n",
       "      <td>27.000000</td>\n",
       "    </tr>\n",
       "    <tr>\n",
       "      <th>50%</th>\n",
       "      <td>2013.000000</td>\n",
       "      <td>37.000000</td>\n",
       "    </tr>\n",
       "    <tr>\n",
       "      <th>75%</th>\n",
       "      <td>2018.000000</td>\n",
       "      <td>49.000000</td>\n",
       "    </tr>\n",
       "    <tr>\n",
       "      <th>max</th>\n",
       "      <td>2022.000000</td>\n",
       "      <td>2021.000000</td>\n",
       "    </tr>\n",
       "  </tbody>\n",
       "</table>\n",
       "</div>"
      ],
      "text/plain": [
       "       ano_fabricacao_veiculo          idade\n",
       "count           355296.000000  297633.000000\n",
       "mean              2011.548056      39.157022\n",
       "std                  7.890299      34.278203\n",
       "min               1900.000000       0.000000\n",
       "25%               2008.000000      27.000000\n",
       "50%               2013.000000      37.000000\n",
       "75%               2018.000000      49.000000\n",
       "max               2022.000000    2021.000000"
      ]
     },
     "execution_count": 91,
     "metadata": {},
     "output_type": "execute_result"
    }
   ],
   "source": [
    "# Descrevendo os dados numéricos\n",
    "dados.describe()"
   ]
  },
  {
   "cell_type": "markdown",
   "id": "db97a89f",
   "metadata": {},
   "source": [
    "<a id='carregando-dados'></a>\n",
    "## <font color=\"#0080ff\"> 3 - Identificando e resolvendo os valores ausentes e outliers</font>\n",
    "<hr color=\"#F5F5F5\" size=\"1\">"
   ]
  },
  {
   "cell_type": "code",
   "execution_count": 92,
   "id": "66705959",
   "metadata": {},
   "outputs": [
    {
     "data": {
      "text/plain": [
       "data_inversa              False\n",
       "dia_semana                False\n",
       "horario                   False\n",
       "uf                        False\n",
       "br                         True\n",
       "km                         True\n",
       "municipio                 False\n",
       "causa_principal           False\n",
       "causa_acidente            False\n",
       "tipo_acidente             False\n",
       "classificacao_acidente    False\n",
       "fase_dia                  False\n",
       "sentido_via               False\n",
       "condicao_metereologica    False\n",
       "tipo_pista                False\n",
       "tracado_via               False\n",
       "uso_solo                  False\n",
       "tipo_veiculo              False\n",
       "marca                      True\n",
       "ano_fabricacao_veiculo     True\n",
       "tipo_envolvido            False\n",
       "estado_fisico             False\n",
       "idade                      True\n",
       "sexo                      False\n",
       "ilesos                    False\n",
       "feridos_leves             False\n",
       "feridos_graves            False\n",
       "mortos                    False\n",
       "latitude                  False\n",
       "longitude                 False\n",
       "regional                   True\n",
       "delegacia                  True\n",
       "dtype: bool"
      ]
     },
     "execution_count": 92,
     "metadata": {},
     "output_type": "execute_result"
    }
   ],
   "source": [
    "#Temos valores ausentes?\n",
    "dados.isna().any()"
   ]
  },
  {
   "cell_type": "code",
   "execution_count": 93,
   "id": "f407a99b",
   "metadata": {},
   "outputs": [
    {
     "data": {
      "text/plain": [
       "data_inversa                  0\n",
       "dia_semana                    0\n",
       "horario                       0\n",
       "uf                            0\n",
       "br                         1557\n",
       "km                         1557\n",
       "municipio                     0\n",
       "causa_principal               0\n",
       "causa_acidente                0\n",
       "tipo_acidente                 0\n",
       "classificacao_acidente        0\n",
       "fase_dia                      0\n",
       "sentido_via                   0\n",
       "condicao_metereologica        0\n",
       "tipo_pista                    0\n",
       "tracado_via                   0\n",
       "uso_solo                      0\n",
       "tipo_veiculo                  0\n",
       "marca                     17021\n",
       "ano_fabricacao_veiculo    21474\n",
       "tipo_envolvido                0\n",
       "estado_fisico                 0\n",
       "idade                     79137\n",
       "sexo                          0\n",
       "ilesos                        0\n",
       "feridos_leves                 0\n",
       "feridos_graves                0\n",
       "mortos                        0\n",
       "latitude                      0\n",
       "longitude                     0\n",
       "regional                     17\n",
       "delegacia                  5397\n",
       "dtype: int64"
      ]
     },
     "execution_count": 93,
     "metadata": {},
     "output_type": "execute_result"
    }
   ],
   "source": [
    "#Quantidade de valores ausentes\n",
    "dados.isna().sum()"
   ]
  },
  {
   "cell_type": "markdown",
   "id": "60a3e060",
   "metadata": {},
   "source": [
    "<a id='carregando-dados'></a>\n",
    "### <font color=\"#0080ff\"> 3.1 - Tratando os valores ausentes de cada variável</font>\n",
    "<hr color=\"#F5F5F5\" size=\"1\">"
   ]
  },
  {
   "cell_type": "markdown",
   "id": "1c984f37",
   "metadata": {},
   "source": [
    "<div class=\"alert alert-warning\"> \n",
    "<strong><div style=\"color: rgb(0, 0, 0);\">Tratando a variável \"br\"</div></strong>\n",
    "</div>"
   ]
  },
  {
   "cell_type": "code",
   "execution_count": 94,
   "id": "59301b7b",
   "metadata": {},
   "outputs": [
    {
     "data": {
      "text/plain": [
       "0.4132494625368262"
      ]
     },
     "execution_count": 94,
     "metadata": {},
     "output_type": "execute_result"
    }
   ],
   "source": [
    "# Calcula o percentual de valores ausentes na variável br\n",
    "dados.br.isnull().mean()*100"
   ]
  },
  {
   "cell_type": "markdown",
   "id": "057b852c",
   "metadata": {},
   "source": [
    "Como o percentual é baixo não podemos eliminar a coluna. Podemos então eliminar os registros com valores ausentes (nesse caso perderíamos 1557 linhas no dataset) ou podemos aplicar imputação. Vamos usar a segunda opção.\n",
    "A variável está com tipo float, iremos alterar para tipo object, pois não é necessário cálculo com a mesma."
   ]
  },
  {
   "cell_type": "markdown",
   "id": "b78e6740",
   "metadata": {},
   "source": [
    "<div class=\"alert alert-success\"> \n",
    "<strong><div style=\"color: rgb(0, 0, 0);\">💡 </div></strong> <br>\n",
    "     <div style=\"color: rgb(0, 0, 0);\">  → Como o percentual é baixo não podemos eliminar a coluna. Podemos então eliminar os registros com valores ausentes (nesse caso perderíamos 1557 linhas no dataset) ou podemos aplicar imputação. Vamos usar a segunda opção. </strong>.</div>         \n",
    "</div>"
   ]
  },
  {
   "cell_type": "code",
   "execution_count": 96,
   "id": "c063c88f",
   "metadata": {},
   "outputs": [
    {
     "data": {
      "text/plain": [
       "116.0    54436\n",
       "101.0    43541\n",
       "163.0    19881\n",
       "153.0    17425\n",
       "40.0     16983\n",
       "         ...  \n",
       "265.0        9\n",
       "437.0        4\n",
       "484.0        4\n",
       "342.0        2\n",
       "434.0        2\n",
       "Name: br, Length: 115, dtype: int64"
      ]
     },
     "execution_count": 96,
     "metadata": {},
     "output_type": "execute_result"
    }
   ],
   "source": [
    "# Categorias da variável\n",
    "dados.br.value_counts()"
   ]
  },
  {
   "cell_type": "code",
   "execution_count": 97,
   "id": "367a5c5e",
   "metadata": {},
   "outputs": [
    {
     "data": {
      "text/plain": [
       "0    116.0\n",
       "dtype: object"
      ]
     },
     "execution_count": 97,
     "metadata": {},
     "output_type": "execute_result"
    }
   ],
   "source": [
    "# Vamos imputar com a moda, o valor mais frequente da variável.\n",
    "dados.br.mode()"
   ]
  },
  {
   "cell_type": "code",
   "execution_count": 98,
   "id": "fe8281c9",
   "metadata": {},
   "outputs": [],
   "source": [
    "# imputação com a moda\n",
    "dados.br.fillna(\"116.0\", inplace = True)"
   ]
  },
  {
   "cell_type": "code",
   "execution_count": 99,
   "id": "7afec0ec",
   "metadata": {},
   "outputs": [
    {
     "data": {
      "text/plain": [
       "0"
      ]
     },
     "execution_count": 99,
     "metadata": {},
     "output_type": "execute_result"
    }
   ],
   "source": [
    "# Valores ausentes tratados com sucesso\n",
    "dados.br.isnull().sum()"
   ]
  },
  {
   "cell_type": "markdown",
   "id": "5fa6d213",
   "metadata": {},
   "source": [
    "<div class=\"alert alert-warning\"> \n",
    "<strong><div style=\"color: rgb(0, 0, 0);\">Tratando a variável \"km\"</div></strong>\n",
    "</div>"
   ]
  },
  {
   "cell_type": "code",
   "execution_count": 100,
   "id": "06e6bc08",
   "metadata": {},
   "outputs": [
    {
     "data": {
      "text/plain": [
       "0.4132494625368262"
      ]
     },
     "execution_count": 100,
     "metadata": {},
     "output_type": "execute_result"
    }
   ],
   "source": [
    "# Calcula o percentual de valores ausentes na variável km\n",
    "dados.km.isnull().mean()*100 "
   ]
  },
  {
   "cell_type": "code",
   "execution_count": 102,
   "id": "37fe0730",
   "metadata": {},
   "outputs": [
    {
     "data": {
      "text/plain": [
       "dtype('O')"
      ]
     },
     "execution_count": 102,
     "metadata": {},
     "output_type": "execute_result"
    }
   ],
   "source": [
    "# Tipo de dados da variável\n",
    "dados.km.dtypes"
   ]
  },
  {
   "cell_type": "markdown",
   "id": "9add4409",
   "metadata": {},
   "source": [
    "<div class=\"alert alert-success\"> \n",
    "<strong><div style=\"color: rgb(0, 0, 0);\">💡 </div></strong> <br>\n",
    "     <div style=\"color: rgb(0, 0, 0);\">  → Como o percentual é baixo não podemos eliminar a coluna. Podemos então eliminar os registros com valores ausentes (nesse caso perderíamos 1557 linhas no dataset) ou podemos aplicar imputação. Vamos usar a primeira opção. Decidi eliminar os registros, pois a moda seria o KM2, porém esse KM existe em inúmeras BRs, o que poderia ser relevante no resultado da análise desta variável </strong>.</div>         \n",
    "</div>"
   ]
  },
  {
   "cell_type": "code",
   "execution_count": 103,
   "id": "c411069a",
   "metadata": {},
   "outputs": [],
   "source": [
    "# Eliminando os registros\n",
    "dados.dropna(subset = [\"km\"], inplace = True)"
   ]
  },
  {
   "cell_type": "code",
   "execution_count": 104,
   "id": "e9752005",
   "metadata": {},
   "outputs": [
    {
     "data": {
      "text/plain": [
       "0"
      ]
     },
     "execution_count": 104,
     "metadata": {},
     "output_type": "execute_result"
    }
   ],
   "source": [
    "# Valores ausentes tratados com sucesso\n",
    "dados.km.isnull().sum()"
   ]
  },
  {
   "cell_type": "markdown",
   "id": "e60205ac",
   "metadata": {},
   "source": [
    "<div class=\"alert alert-warning\"> \n",
    "<strong><div style=\"color: rgb(0, 0, 0);\">Tratando a variável \"marca\"</div></strong>\n",
    "</div>"
   ]
  },
  {
   "cell_type": "code",
   "execution_count": 105,
   "id": "4d10ab2f",
   "metadata": {},
   "outputs": [
    {
     "data": {
      "text/plain": [
       "4.527295163014075"
      ]
     },
     "execution_count": 105,
     "metadata": {},
     "output_type": "execute_result"
    }
   ],
   "source": [
    "# Calcula o percentual de valores ausentes na variável marca\n",
    "dados.marca.isnull().mean()*100"
   ]
  },
  {
   "cell_type": "code",
   "execution_count": 106,
   "id": "0443e4cb",
   "metadata": {},
   "outputs": [
    {
     "data": {
      "text/plain": [
       "dtype('O')"
      ]
     },
     "execution_count": 106,
     "metadata": {},
     "output_type": "execute_result"
    }
   ],
   "source": [
    "#Tipo de dado da variável\n",
    "dados.marca.dtypes"
   ]
  },
  {
   "cell_type": "code",
   "execution_count": 107,
   "id": "21680e07",
   "metadata": {},
   "outputs": [
    {
     "data": {
      "text/plain": [
       "SR/RANDON SR CA/RANDON SR CA                       5380\n",
       "VW/GOL 1.0/GOL 1.0                                 3922\n",
       "HONDA/CG 160 FAN/CG 160 FAN                        3775\n",
       "HONDA/CG 160 START/CG 160 START                    3365\n",
       "MBENZ/MPOLO PARADISO R/MPOLO PARADISO R            3337\n",
       "                                                   ... \n",
       "SR/PASTRE PCONTEINER 3E/PASTRE PCONTEINER 3E          1\n",
       "VW/MPOLO VIALE U/MPOLO VIALE U                        1\n",
       "I/NISSAN VERSA SENSE CVT/NISSAN VERSA SENSE CVT       1\n",
       "GM/CHEVETTE SL 1.6/CHEVETTE SL 1.6                    1\n",
       "M.BENZ/1723/1723                                      1\n",
       "Name: marca, Length: 6059, dtype: int64"
      ]
     },
     "execution_count": 107,
     "metadata": {},
     "output_type": "execute_result"
    }
   ],
   "source": [
    "# Categorias da variável\n",
    "dados.marca.value_counts()"
   ]
  },
  {
   "cell_type": "code",
   "execution_count": 108,
   "id": "7ee37564",
   "metadata": {},
   "outputs": [
    {
     "data": {
      "text/plain": [
       "16987"
      ]
     },
     "execution_count": 108,
     "metadata": {},
     "output_type": "execute_result"
    }
   ],
   "source": [
    "#Quantidade de valores nulos.\n",
    "#Os valores diminuiram, pois excluímos alguns registros anteriormente.\n",
    "dados.marca.isna().sum()"
   ]
  },
  {
   "cell_type": "markdown",
   "id": "35bfd199",
   "metadata": {},
   "source": [
    "<div class=\"alert alert-success\"> \n",
    "<strong><div style=\"color: rgb(0, 0, 0);\">💡 </div></strong> <br>\n",
    "     <div style=\"color: rgb(0, 0, 0);\">  → Como o percentual é baixo não podemos eliminar a coluna, utilizo uma margem de 30% para a exclusão da coluna. Podemos então eliminar os registros com valores ausentes (nesse caso perderíamos 16987 linhas no dataset) ou podemos aplicar imputação. Mas decidi não utilizar a moda para imputação, pois como se trata de marca e modelo acho importante apenas deixar como <strong>\"não identificado\"</strong> </strong>.</div>         \n",
    "</div>"
   ]
  },
  {
   "cell_type": "code",
   "execution_count": 109,
   "id": "5200b434",
   "metadata": {},
   "outputs": [],
   "source": [
    "# imputação\n",
    "dados.marca.fillna(\"NAO IDENTIFICADO\", inplace = True)"
   ]
  },
  {
   "cell_type": "code",
   "execution_count": 110,
   "id": "abfb4caa",
   "metadata": {},
   "outputs": [
    {
     "data": {
      "text/plain": [
       "0"
      ]
     },
     "execution_count": 110,
     "metadata": {},
     "output_type": "execute_result"
    }
   ],
   "source": [
    "# Valores ausentes tratados com sucesso\n",
    "dados.marca.isnull().sum()"
   ]
  },
  {
   "cell_type": "code",
   "execution_count": 111,
   "id": "7633cae9",
   "metadata": {},
   "outputs": [
    {
     "data": {
      "text/plain": [
       "NAO IDENTIFICADO                                   16987\n",
       "SR/RANDON SR CA/RANDON SR CA                        5380\n",
       "VW/GOL 1.0/GOL 1.0                                  3922\n",
       "HONDA/CG 160 FAN/CG 160 FAN                         3775\n",
       "HONDA/CG 160 START/CG 160 START                     3365\n",
       "                                                   ...  \n",
       "SR/PASTRE PCONTEINER 3E/PASTRE PCONTEINER 3E           1\n",
       "VW/MPOLO VIALE U/MPOLO VIALE U                         1\n",
       "I/NISSAN VERSA SENSE CVT/NISSAN VERSA SENSE CVT        1\n",
       "GM/CHEVETTE SL 1.6/CHEVETTE SL 1.6                     1\n",
       "M.BENZ/1723/1723                                       1\n",
       "Name: marca, Length: 6060, dtype: int64"
      ]
     },
     "execution_count": 111,
     "metadata": {},
     "output_type": "execute_result"
    }
   ],
   "source": [
    "# Registros para cada marca\n",
    "dados.marca.value_counts()"
   ]
  },
  {
   "cell_type": "markdown",
   "id": "0de7d970",
   "metadata": {},
   "source": [
    "<div class=\"alert alert-warning\"> \n",
    "<strong><div style=\"color: rgb(0, 0, 0);\">Tratando a variável \"ano_fabricacao_veiculo\"</div></strong>\n",
    "</div>"
   ]
  },
  {
   "cell_type": "code",
   "execution_count": 112,
   "id": "afb86292",
   "metadata": {},
   "outputs": [
    {
     "data": {
      "text/plain": [
       "5.706625303494282"
      ]
     },
     "execution_count": 112,
     "metadata": {},
     "output_type": "execute_result"
    }
   ],
   "source": [
    "# Calcula o percentual de valores ausentes na variável ano_fabricacao_veiculo\n",
    "dados.ano_fabricacao_veiculo.isnull().mean()*100"
   ]
  },
  {
   "cell_type": "code",
   "execution_count": 113,
   "id": "b8b884ec",
   "metadata": {},
   "outputs": [
    {
     "data": {
      "text/plain": [
       "dtype('float64')"
      ]
     },
     "execution_count": 113,
     "metadata": {},
     "output_type": "execute_result"
    }
   ],
   "source": [
    "#Tipo de dado da variável\n",
    "dados.ano_fabricacao_veiculo.dtypes"
   ]
  },
  {
   "cell_type": "markdown",
   "id": "1aadcc62",
   "metadata": {},
   "source": [
    "<div class=\"alert alert-success\"> \n",
    "<strong><div style=\"color: rgb(0, 0, 0);\">💡 </div></strong> <br>\n",
    "     <div style=\"color: rgb(0, 0, 0);\">  → Vamos alterar o tipo de dados da varíavel, pois se refere a dados categóricos, o ano de fabricação do veículo</strong> </strong>.</div>         \n",
    "</div>"
   ]
  },
  {
   "cell_type": "code",
   "execution_count": 114,
   "id": "97205d5b",
   "metadata": {},
   "outputs": [],
   "source": [
    "# Agora convertemos para object\n",
    "dados.ano_fabricacao_veiculo = dados.ano_fabricacao_veiculo.astype(\"object\")"
   ]
  },
  {
   "cell_type": "code",
   "execution_count": 115,
   "id": "d8734a38",
   "metadata": {},
   "outputs": [
    {
     "data": {
      "text/plain": [
       "dtype('O')"
      ]
     },
     "execution_count": 115,
     "metadata": {},
     "output_type": "execute_result"
    }
   ],
   "source": [
    "#Tipo de dado da variável após a conversão\n",
    "dados.ano_fabricacao_veiculo.dtypes"
   ]
  },
  {
   "cell_type": "code",
   "execution_count": 116,
   "id": "c1f008d6",
   "metadata": {},
   "outputs": [
    {
     "data": {
      "text/plain": [
       "2019.0    25086\n",
       "2021.0    23735\n",
       "2013.0    23263\n",
       "2011.0    22526\n",
       "2014.0    20424\n",
       "          ...  \n",
       "1960.0        7\n",
       "1965.0        4\n",
       "1962.0        3\n",
       "1964.0        1\n",
       "1929.0        1\n",
       "Name: ano_fabricacao_veiculo, Length: 63, dtype: int64"
      ]
     },
     "execution_count": 116,
     "metadata": {},
     "output_type": "execute_result"
    }
   ],
   "source": [
    "# Registros para cada ano_fabricacao_veiculo\n",
    "dados.ano_fabricacao_veiculo.value_counts()"
   ]
  },
  {
   "cell_type": "code",
   "execution_count": 117,
   "id": "f2fec1e2",
   "metadata": {},
   "outputs": [
    {
     "data": {
      "text/plain": [
       "21412"
      ]
     },
     "execution_count": 117,
     "metadata": {},
     "output_type": "execute_result"
    }
   ],
   "source": [
    "#Quantidade de valores nulos.\n",
    "#Os valores diminuiram, pois excluímos alguns registros anteriormente.\n",
    "dados.ano_fabricacao_veiculo.isna().sum()"
   ]
  },
  {
   "cell_type": "markdown",
   "id": "b6269f7c",
   "metadata": {},
   "source": [
    "<div class=\"alert alert-success\"> \n",
    "<strong><div style=\"color: rgb(0, 0, 0);\">💡 </div></strong> <br>\n",
    "     <div style=\"color: rgb(0, 0, 0);\">  → Como os valores ausentes são menos de 30% dos registros, não iremos excluir a coluna. Eu podería excluir os registros, mas acredito não ser pertinente, pois são mais de 5% dos registros. Também não poderia fazer a imputação pela moda, pois interfere no ano que é ligado ao modelo e marca de cada veículo. Então iremos utilizar a mesma estratégia da varíavel anterior, imputando por \"não identificado\"</strong> </strong>.</div>         \n",
    "</div>"
   ]
  },
  {
   "cell_type": "code",
   "execution_count": 118,
   "id": "3a1b076d",
   "metadata": {},
   "outputs": [],
   "source": [
    "# imputação\n",
    "dados.ano_fabricacao_veiculo.fillna(\"NAO IDENTIFICADO\", inplace = True)"
   ]
  },
  {
   "cell_type": "code",
   "execution_count": 119,
   "id": "ba419968",
   "metadata": {},
   "outputs": [
    {
     "data": {
      "text/plain": [
       "0"
      ]
     },
     "execution_count": 119,
     "metadata": {},
     "output_type": "execute_result"
    }
   ],
   "source": [
    "# Valores ausentes tratados com sucesso\n",
    "dados.ano_fabricacao_veiculo.isnull().sum()"
   ]
  },
  {
   "cell_type": "code",
   "execution_count": 120,
   "id": "e65b8483",
   "metadata": {},
   "outputs": [
    {
     "data": {
      "text/plain": [
       "2019.0              25086\n",
       "2021.0              23735\n",
       "2013.0              23263\n",
       "2011.0              22526\n",
       "NAO IDENTIFICADO    21412\n",
       "                    ...  \n",
       "1960.0                  7\n",
       "1965.0                  4\n",
       "1962.0                  3\n",
       "1964.0                  1\n",
       "1929.0                  1\n",
       "Name: ano_fabricacao_veiculo, Length: 64, dtype: int64"
      ]
     },
     "execution_count": 120,
     "metadata": {},
     "output_type": "execute_result"
    }
   ],
   "source": [
    "# Registros para cada ano_fabricacao_veiculo\n",
    "dados.ano_fabricacao_veiculo.value_counts()"
   ]
  },
  {
   "cell_type": "markdown",
   "id": "912fe9fd",
   "metadata": {},
   "source": [
    "<div class=\"alert alert-warning\"> \n",
    "<strong><div style=\"color: rgb(0, 0, 0);\">Tratando a variável \"idade\"</div></strong>\n",
    "</div>"
   ]
  },
  {
   "cell_type": "code",
   "execution_count": 121,
   "id": "688abc9d",
   "metadata": {},
   "outputs": [
    {
     "data": {
      "text/plain": [
       "21.013131208140443"
      ]
     },
     "execution_count": 121,
     "metadata": {},
     "output_type": "execute_result"
    }
   ],
   "source": [
    "# Calcula o percentual de valores ausentes na variável idade\n",
    "dados.idade.isnull().mean()*100"
   ]
  },
  {
   "cell_type": "code",
   "execution_count": 122,
   "id": "8308a5ee",
   "metadata": {},
   "outputs": [
    {
     "data": {
      "text/plain": [
       "dtype('float64')"
      ]
     },
     "execution_count": 122,
     "metadata": {},
     "output_type": "execute_result"
    }
   ],
   "source": [
    "# Verificando o tipo de dado\n",
    "dados.idade.dtypes"
   ]
  },
  {
   "cell_type": "code",
   "execution_count": 123,
   "id": "8301ef07",
   "metadata": {},
   "outputs": [
    {
     "data": {
      "text/plain": [
       "34.0      7905\n",
       "28.0      7894\n",
       "35.0      7702\n",
       "40.0      7640\n",
       "33.0      7577\n",
       "          ... \n",
       "112.0        1\n",
       "256.0        1\n",
       "222.0        1\n",
       "935.0        1\n",
       "1022.0       1\n",
       "Name: idade, Length: 114, dtype: int64"
      ]
     },
     "execution_count": 123,
     "metadata": {},
     "output_type": "execute_result"
    }
   ],
   "source": [
    "# Registros para cada idade\n",
    "dados.idade.value_counts()"
   ]
  },
  {
   "cell_type": "code",
   "execution_count": 124,
   "id": "dc1a289c",
   "metadata": {},
   "outputs": [
    {
     "data": {
      "text/plain": [
       "39.16918098721526"
      ]
     },
     "execution_count": 124,
     "metadata": {},
     "output_type": "execute_result"
    }
   ],
   "source": [
    "# Vamos verificar qual é a média de idade.\n",
    "dados.idade.mean()"
   ]
  },
  {
   "cell_type": "code",
   "execution_count": 125,
   "id": "04182151",
   "metadata": {},
   "outputs": [
    {
     "data": {
      "text/plain": [
       "37.0"
      ]
     },
     "execution_count": 125,
     "metadata": {},
     "output_type": "execute_result"
    }
   ],
   "source": [
    "# Vamos verificar qual é a mediana.\n",
    "dados.idade.median()"
   ]
  },
  {
   "cell_type": "code",
   "execution_count": 126,
   "id": "3bceb90c",
   "metadata": {},
   "outputs": [
    {
     "data": {
      "text/plain": [
       "0    34.0\n",
       "dtype: float64"
      ]
     },
     "execution_count": 126,
     "metadata": {},
     "output_type": "execute_result"
    }
   ],
   "source": [
    "# Vamos verificar qual é a moda.\n",
    "dados.idade.mode()"
   ]
  },
  {
   "cell_type": "markdown",
   "id": "1b852b34",
   "metadata": {},
   "source": [
    "<div class=\"alert alert-success\"> \n",
    "<strong><div style=\"color: rgb(0, 0, 0);\">💡 </div></strong> <br>\n",
    "     <div style=\"color: rgb(0, 0, 0);\">  → Irei utilizar a mediana para a imputação dos dados ausente na variável idade, pois a mediana é resistente a outliers. Os outliers irão ser resolvidos mais a frente</strong> </strong>.</div>         \n",
    "</div>"
   ]
  },
  {
   "cell_type": "code",
   "execution_count": 127,
   "id": "69019968",
   "metadata": {},
   "outputs": [],
   "source": [
    "# imputação pela mediana\n",
    "dados.idade.fillna(\"34\", inplace = True)"
   ]
  },
  {
   "cell_type": "code",
   "execution_count": 128,
   "id": "527fe971",
   "metadata": {},
   "outputs": [
    {
     "data": {
      "text/plain": [
       "0"
      ]
     },
     "execution_count": 128,
     "metadata": {},
     "output_type": "execute_result"
    }
   ],
   "source": [
    "# Valores ausentes tratados com sucesso\n",
    "dados.idade.isnull().sum()"
   ]
  },
  {
   "cell_type": "markdown",
   "id": "789e626d",
   "metadata": {},
   "source": [
    "<div class=\"alert alert-success\"> \n",
    "<strong><div style=\"color: rgb(0, 0, 0);\">💡 </div></strong> <br>\n",
    "     <div style=\"color: rgb(0, 0, 0);\">  → Irei alterar os dados da variável para inteiro, pois a idade não necessita ser decimal</strong> </strong>.</div>         \n",
    "</div>"
   ]
  },
  {
   "cell_type": "code",
   "execution_count": 129,
   "id": "7775b9e4",
   "metadata": {},
   "outputs": [],
   "source": [
    "# Agora convertemos para int\n",
    "dados.idade = dados.idade.astype(\"int\")"
   ]
  },
  {
   "cell_type": "code",
   "execution_count": 130,
   "id": "4dada4cf",
   "metadata": {},
   "outputs": [
    {
     "data": {
      "text/plain": [
       "dtype('int32')"
      ]
     },
     "execution_count": 130,
     "metadata": {},
     "output_type": "execute_result"
    }
   ],
   "source": [
    "# Resultado após conversão\n",
    "dados.idade.dtypes"
   ]
  },
  {
   "cell_type": "markdown",
   "id": "12179468",
   "metadata": {},
   "source": [
    "<div class=\"alert alert-warning\"> \n",
    "<strong><div style=\"color: rgb(0, 0, 0);\">Tratando a variável \"regional\"</div></strong>\n",
    "</div>"
   ]
  },
  {
   "cell_type": "code",
   "execution_count": 131,
   "id": "17b34835",
   "metadata": {},
   "outputs": [
    {
     "data": {
      "text/plain": [
       "0.0"
      ]
     },
     "execution_count": 131,
     "metadata": {},
     "output_type": "execute_result"
    }
   ],
   "source": [
    "# Calcula o percentual de valores ausentes na variável regional\n",
    "dados.regional.isnull().mean()*100"
   ]
  },
  {
   "cell_type": "markdown",
   "id": "196c5362",
   "metadata": {},
   "source": [
    "<div class=\"alert alert-success\"> \n",
    "<strong><div style=\"color: rgb(0, 0, 0);\">💡 </div></strong> <br>\n",
    "     <div style=\"color: rgb(0, 0, 0);\">  → A variável \"regional\" tinha 17 valores ausentes, porém a nesna foi resolvida quando excluimos os registros de outras variáveis acima.</strong> </strong>.</div>         \n",
    "</div>"
   ]
  },
  {
   "cell_type": "markdown",
   "id": "611c4045",
   "metadata": {},
   "source": [
    "<div class=\"alert alert-warning\"> \n",
    "<strong><div style=\"color: rgb(0, 0, 0);\">Tratando a variável \"delegacia\"</div></strong>\n",
    "</div>"
   ]
  },
  {
   "cell_type": "code",
   "execution_count": 132,
   "id": "6c1d2232",
   "metadata": {},
   "outputs": [
    {
     "data": {
      "text/plain": [
       "1.3869455482619206"
      ]
     },
     "execution_count": 132,
     "metadata": {},
     "output_type": "execute_result"
    }
   ],
   "source": [
    "# Calcula o percentual de valores ausentes na variável delegacia\n",
    "dados.delegacia.isnull().mean()*100"
   ]
  },
  {
   "cell_type": "code",
   "execution_count": 133,
   "id": "96b75bbe",
   "metadata": {},
   "outputs": [
    {
     "data": {
      "text/plain": [
       "dtype('O')"
      ]
     },
     "execution_count": 133,
     "metadata": {},
     "output_type": "execute_result"
    }
   ],
   "source": [
    "# Verificando o tipo de dado\n",
    "dados.delegacia.dtypes"
   ]
  },
  {
   "cell_type": "code",
   "execution_count": 134,
   "id": "e0be2bf2",
   "metadata": {},
   "outputs": [
    {
     "data": {
      "text/plain": [
       "DEL01-PR    16711\n",
       "DEL01-MG     9290\n",
       "DEL01-SC     7612\n",
       "DEL01-SP     7324\n",
       "DEL04-SC     7306\n",
       "            ...  \n",
       "DEL07-SP      485\n",
       "DEL05-RJ      473\n",
       "DEL12-RS      426\n",
       "DEL03-RN      339\n",
       "DEL02-PI      312\n",
       "Name: delegacia, Length: 146, dtype: int64"
      ]
     },
     "execution_count": 134,
     "metadata": {},
     "output_type": "execute_result"
    }
   ],
   "source": [
    "# Registros para cada dado da coluna\n",
    "dados.delegacia.value_counts()"
   ]
  },
  {
   "cell_type": "markdown",
   "id": "335a252d",
   "metadata": {},
   "source": [
    "<div class=\"alert alert-success\"> \n",
    "<strong><div style=\"color: rgb(0, 0, 0);\">💡 </div></strong> <br>\n",
    "     <div style=\"color: rgb(0, 0, 0);\">  → Como o tipo de dado é 'object' vamos imputar com a moda, pois média e mediana apenas em dados numéricos</strong> </strong>.</div>         \n",
    "</div>"
   ]
  },
  {
   "cell_type": "code",
   "execution_count": 135,
   "id": "f24990a4",
   "metadata": {},
   "outputs": [
    {
     "data": {
      "text/plain": [
       "0    DEL01-PR\n",
       "dtype: object"
      ]
     },
     "execution_count": 135,
     "metadata": {},
     "output_type": "execute_result"
    }
   ],
   "source": [
    "# Irei verificar qual é a moda\n",
    "dados.delegacia.mode()"
   ]
  },
  {
   "cell_type": "code",
   "execution_count": 136,
   "id": "f61b2f09",
   "metadata": {},
   "outputs": [],
   "source": [
    "# imputação pela moda\n",
    "dados.delegacia.fillna(\"DEL01-PR\", inplace = True)"
   ]
  },
  {
   "cell_type": "code",
   "execution_count": 137,
   "id": "67c28577",
   "metadata": {},
   "outputs": [
    {
     "data": {
      "text/plain": [
       "0"
      ]
     },
     "execution_count": 137,
     "metadata": {},
     "output_type": "execute_result"
    }
   ],
   "source": [
    "# Valores ausentes tratados com sucesso\n",
    "dados.delegacia.isnull().sum()"
   ]
  },
  {
   "cell_type": "code",
   "execution_count": 138,
   "id": "428c0c1f",
   "metadata": {},
   "outputs": [
    {
     "data": {
      "text/plain": [
       "data_inversa              False\n",
       "dia_semana                False\n",
       "horario                   False\n",
       "uf                        False\n",
       "br                        False\n",
       "km                        False\n",
       "municipio                 False\n",
       "causa_principal           False\n",
       "causa_acidente            False\n",
       "tipo_acidente             False\n",
       "classificacao_acidente    False\n",
       "fase_dia                  False\n",
       "sentido_via               False\n",
       "condicao_metereologica    False\n",
       "tipo_pista                False\n",
       "tracado_via               False\n",
       "uso_solo                  False\n",
       "tipo_veiculo              False\n",
       "marca                     False\n",
       "ano_fabricacao_veiculo    False\n",
       "tipo_envolvido            False\n",
       "estado_fisico             False\n",
       "idade                     False\n",
       "sexo                      False\n",
       "ilesos                    False\n",
       "feridos_leves             False\n",
       "feridos_graves            False\n",
       "mortos                    False\n",
       "latitude                  False\n",
       "longitude                 False\n",
       "regional                  False\n",
       "delegacia                 False\n",
       "dtype: bool"
      ]
     },
     "execution_count": 138,
     "metadata": {},
     "output_type": "execute_result"
    }
   ],
   "source": [
    "#Valores nulos resolvidos\n",
    "dados.isna().any()"
   ]
  },
  {
   "cell_type": "markdown",
   "id": "511404a6",
   "metadata": {},
   "source": [
    "<a id='carregando-dados'></a>\n",
    "### <font color=\"#0080ff\"> 3.2 - Resolvendo os outliers</font>\n",
    "<hr color=\"#F5F5F5\" size=\"1\">"
   ]
  },
  {
   "cell_type": "markdown",
   "id": "5f06863b",
   "metadata": {},
   "source": [
    "<div class=\"alert alert-warning\"> \n",
    "<strong><div style=\"color: rgb(0, 0, 0);\">Tratando os outliers em variáveis númericas</div></strong>\n",
    "</div>"
   ]
  },
  {
   "cell_type": "code",
   "execution_count": 149,
   "id": "ce67479a",
   "metadata": {},
   "outputs": [],
   "source": [
    "# Cria o objeto trata outlier\n",
    "trata_outlier = TrataOutlier(dados)"
   ]
  },
  {
   "cell_type": "code",
   "execution_count": 150,
   "id": "d638027f",
   "metadata": {},
   "outputs": [
    {
     "name": "stdout",
     "output_type": "stream",
     "text": [
      "<class 'pandas.core.frame.DataFrame'>\n",
      "Int64Index: 375213 entries, 0 to 376769\n",
      "Data columns (total 32 columns):\n",
      " #   Column                  Non-Null Count   Dtype         \n",
      "---  ------                  --------------   -----         \n",
      " 0   data_inversa            375213 non-null  datetime64[ns]\n",
      " 1   dia_semana              375213 non-null  object        \n",
      " 2   horario                 375213 non-null  datetime64[ns]\n",
      " 3   uf                      375213 non-null  object        \n",
      " 4   br                      375213 non-null  object        \n",
      " 5   km                      375213 non-null  object        \n",
      " 6   municipio               375213 non-null  object        \n",
      " 7   causa_principal         375213 non-null  object        \n",
      " 8   causa_acidente          375213 non-null  object        \n",
      " 9   tipo_acidente           375213 non-null  object        \n",
      " 10  classificacao_acidente  375213 non-null  object        \n",
      " 11  fase_dia                375213 non-null  object        \n",
      " 12  sentido_via             375213 non-null  object        \n",
      " 13  condicao_metereologica  375213 non-null  object        \n",
      " 14  tipo_pista              375213 non-null  object        \n",
      " 15  tracado_via             375213 non-null  object        \n",
      " 16  uso_solo                375213 non-null  object        \n",
      " 17  tipo_veiculo            375213 non-null  object        \n",
      " 18  marca                   375213 non-null  object        \n",
      " 19  ano_fabricacao_veiculo  375213 non-null  object        \n",
      " 20  tipo_envolvido          375213 non-null  object        \n",
      " 21  estado_fisico           375213 non-null  object        \n",
      " 22  idade                   375213 non-null  int32         \n",
      " 23  sexo                    375213 non-null  object        \n",
      " 24  ilesos                  375213 non-null  object        \n",
      " 25  feridos_leves           375213 non-null  object        \n",
      " 26  feridos_graves          375213 non-null  object        \n",
      " 27  mortos                  375213 non-null  object        \n",
      " 28  latitude                375213 non-null  object        \n",
      " 29  longitude               375213 non-null  object        \n",
      " 30  regional                375213 non-null  object        \n",
      " 31  delegacia               375213 non-null  object        \n",
      "dtypes: datetime64[ns](2), int32(1), object(29)\n",
      "memory usage: 93.0+ MB\n"
     ]
    }
   ],
   "source": [
    "# dados gerais\n",
    "dados.info()"
   ]
  },
  {
   "cell_type": "code",
   "execution_count": 151,
   "id": "2cb16c1f",
   "metadata": {},
   "outputs": [],
   "source": [
    "# A variável idade é a única numérica do tipo \"int\".\n",
    "# Irei colocar ela dentro de uma variável para ser utilizada com um módulo d etratamento de outliers\n",
    "lista_colunas = dados.select_dtypes('int32').columns.tolist()"
   ]
  },
  {
   "cell_type": "code",
   "execution_count": 152,
   "id": "6e4401de",
   "metadata": {},
   "outputs": [
    {
     "data": {
      "text/plain": [
       "['idade']"
      ]
     },
     "execution_count": 152,
     "metadata": {},
     "output_type": "execute_result"
    }
   ],
   "source": [
    "lista_colunas"
   ]
  },
  {
   "cell_type": "code",
   "execution_count": 153,
   "id": "f35097d2",
   "metadata": {},
   "outputs": [
    {
     "data": {
      "text/html": [
       "<div>\n",
       "<style scoped>\n",
       "    .dataframe tbody tr th:only-of-type {\n",
       "        vertical-align: middle;\n",
       "    }\n",
       "\n",
       "    .dataframe tbody tr th {\n",
       "        vertical-align: top;\n",
       "    }\n",
       "\n",
       "    .dataframe thead th {\n",
       "        text-align: right;\n",
       "    }\n",
       "</style>\n",
       "<table border=\"1\" class=\"dataframe\">\n",
       "  <thead>\n",
       "    <tr style=\"text-align: right;\">\n",
       "      <th>Nome de Coluna</th>\n",
       "      <th>idade</th>\n",
       "    </tr>\n",
       "  </thead>\n",
       "  <tbody>\n",
       "    <tr>\n",
       "      <th>Min</th>\n",
       "      <td>0</td>\n",
       "    </tr>\n",
       "    <tr>\n",
       "      <th>Q1</th>\n",
       "      <td>30.0</td>\n",
       "    </tr>\n",
       "    <tr>\n",
       "      <th>Median</th>\n",
       "      <td>34.0</td>\n",
       "    </tr>\n",
       "    <tr>\n",
       "      <th>Q3</th>\n",
       "      <td>45.0</td>\n",
       "    </tr>\n",
       "    <tr>\n",
       "      <th>Max</th>\n",
       "      <td>2021</td>\n",
       "    </tr>\n",
       "    <tr>\n",
       "      <th>IQR</th>\n",
       "      <td>15.0</td>\n",
       "    </tr>\n",
       "    <tr>\n",
       "      <th>Lower fence</th>\n",
       "      <td>7.5</td>\n",
       "    </tr>\n",
       "    <tr>\n",
       "      <th>Upper fence</th>\n",
       "      <td>67.5</td>\n",
       "    </tr>\n",
       "    <tr>\n",
       "      <th>Skew</th>\n",
       "      <td>47.362807</td>\n",
       "    </tr>\n",
       "    <tr>\n",
       "      <th>Num_Outliers</th>\n",
       "      <td>16507</td>\n",
       "    </tr>\n",
       "    <tr>\n",
       "      <th>Percent_Outliers</th>\n",
       "      <td>11.0%</td>\n",
       "    </tr>\n",
       "  </tbody>\n",
       "</table>\n",
       "</div>"
      ],
      "text/plain": [
       "Nome de Coluna        idade\n",
       "Min                       0\n",
       "Q1                     30.0\n",
       "Median                 34.0\n",
       "Q3                     45.0\n",
       "Max                    2021\n",
       "IQR                    15.0\n",
       "Lower fence             7.5\n",
       "Upper fence            67.5\n",
       "Skew              47.362807\n",
       "Num_Outliers          16507\n",
       "Percent_Outliers      11.0%"
      ]
     },
     "execution_count": 153,
     "metadata": {},
     "output_type": "execute_result"
    }
   ],
   "source": [
    "# Visão geral dos outliers das colunas tipo int32\n",
    "trata_outlier.getOverview(lista_colunas)"
   ]
  },
  {
   "cell_type": "markdown",
   "id": "bbc53645",
   "metadata": {},
   "source": [
    "<div class=\"alert alert-success\"> \n",
    "<strong><div style=\"color: rgb(0, 0, 0);\">💡 </div></strong> <br>\n",
    "    <div style=\"color: rgb(0, 0, 0);\">  → A coluna <strong>\"idade\"</strong> contém 11% de outliers. Irei tratar.</strong> </strong></div>         \n",
    "</div>"
   ]
  },
  {
   "cell_type": "code",
   "execution_count": 155,
   "id": "88be06f1",
   "metadata": {},
   "outputs": [
    {
     "data": {
      "text/plain": [
       "34      86749\n",
       "28       7894\n",
       "35       7702\n",
       "40       7640\n",
       "33       7577\n",
       "        ...  \n",
       "935         1\n",
       "112         1\n",
       "96          1\n",
       "1039        1\n",
       "1022        1\n",
       "Name: idade, Length: 114, dtype: int64"
      ]
     },
     "execution_count": 155,
     "metadata": {},
     "output_type": "execute_result"
    }
   ],
   "source": [
    "# Registros para cada dado da coluna\n",
    "dados.idade.value_counts()"
   ]
  },
  {
   "cell_type": "code",
   "execution_count": 157,
   "id": "36d7e995",
   "metadata": {},
   "outputs": [],
   "source": [
    "# Replace dos outliers\n",
    "trata_outlier.replace_outliers_with_fences(lista_colunas)"
   ]
  },
  {
   "cell_type": "code",
   "execution_count": 158,
   "id": "dad2f0e9",
   "metadata": {},
   "outputs": [
    {
     "data": {
      "text/html": [
       "<div>\n",
       "<style scoped>\n",
       "    .dataframe tbody tr th:only-of-type {\n",
       "        vertical-align: middle;\n",
       "    }\n",
       "\n",
       "    .dataframe tbody tr th {\n",
       "        vertical-align: top;\n",
       "    }\n",
       "\n",
       "    .dataframe thead th {\n",
       "        text-align: right;\n",
       "    }\n",
       "</style>\n",
       "<table border=\"1\" class=\"dataframe\">\n",
       "  <thead>\n",
       "    <tr style=\"text-align: right;\">\n",
       "      <th>Nome de Coluna</th>\n",
       "      <th>idade</th>\n",
       "    </tr>\n",
       "  </thead>\n",
       "  <tbody>\n",
       "    <tr>\n",
       "      <th>Min</th>\n",
       "      <td>7.5</td>\n",
       "    </tr>\n",
       "    <tr>\n",
       "      <th>Q1</th>\n",
       "      <td>30.0</td>\n",
       "    </tr>\n",
       "    <tr>\n",
       "      <th>Median</th>\n",
       "      <td>34.0</td>\n",
       "    </tr>\n",
       "    <tr>\n",
       "      <th>Q3</th>\n",
       "      <td>45.0</td>\n",
       "    </tr>\n",
       "    <tr>\n",
       "      <th>Max</th>\n",
       "      <td>67.5</td>\n",
       "    </tr>\n",
       "    <tr>\n",
       "      <th>IQR</th>\n",
       "      <td>15.0</td>\n",
       "    </tr>\n",
       "    <tr>\n",
       "      <th>Lower fence</th>\n",
       "      <td>7.5</td>\n",
       "    </tr>\n",
       "    <tr>\n",
       "      <th>Upper fence</th>\n",
       "      <td>67.5</td>\n",
       "    </tr>\n",
       "    <tr>\n",
       "      <th>Skew</th>\n",
       "      <td>0.401413</td>\n",
       "    </tr>\n",
       "    <tr>\n",
       "      <th>Num_Outliers</th>\n",
       "      <td>0</td>\n",
       "    </tr>\n",
       "    <tr>\n",
       "      <th>Percent_Outliers</th>\n",
       "      <td>0.0%</td>\n",
       "    </tr>\n",
       "  </tbody>\n",
       "</table>\n",
       "</div>"
      ],
      "text/plain": [
       "Nome de Coluna       idade\n",
       "Min                    7.5\n",
       "Q1                    30.0\n",
       "Median                34.0\n",
       "Q3                    45.0\n",
       "Max                   67.5\n",
       "IQR                   15.0\n",
       "Lower fence            7.5\n",
       "Upper fence           67.5\n",
       "Skew              0.401413\n",
       "Num_Outliers             0\n",
       "Percent_Outliers      0.0%"
      ]
     },
     "execution_count": 158,
     "metadata": {},
     "output_type": "execute_result"
    }
   ],
   "source": [
    "# Visão geral dos outliers após tratamento\n",
    "trata_outlier.getOverview(lista_colunas)"
   ]
  },
  {
   "cell_type": "markdown",
   "id": "bdffb974",
   "metadata": {},
   "source": [
    "<div class=\"alert alert-warning\"> \n",
    "<strong><div style=\"color: rgb(0, 0, 0);\">Tratando os outliers em variáveis categóricas</div></strong>\n",
    "</div>"
   ]
  },
  {
   "cell_type": "markdown",
   "id": "7a7fdfc5",
   "metadata": {},
   "source": [
    "<div class=\"alert alert-success\"> \n",
    "<strong><div style=\"color: rgb(0, 0, 0);\">💡 </div></strong> <br>\n",
    "    <div style=\"color: rgb(0, 0, 0);\">  → A varíavel idade tem alguns valores que indicam erro no registro dos dados, com idades acima de 95 anos. Irei resolver.</strong> </strong></div>         \n",
    "</div>"
   ]
  },
  {
   "cell_type": "code",
   "execution_count": 159,
   "id": "7e4e13b3",
   "metadata": {},
   "outputs": [],
   "source": [
    "# Coloco em uma variável os dados acima de 95 anos.\n",
    "exclui_idades_95 = dados[ dados['idade'] > 95].index"
   ]
  },
  {
   "cell_type": "code",
   "execution_count": 160,
   "id": "f5435a03",
   "metadata": {},
   "outputs": [],
   "source": [
    "# Excluo os dados acima de 95 anos\n",
    "dados.drop(exclui_idades_95 , inplace=True)"
   ]
  },
  {
   "cell_type": "code",
   "execution_count": 162,
   "id": "4953b41e",
   "metadata": {},
   "outputs": [
    {
     "data": {
      "text/plain": [
       "34.0    86749\n",
       "67.5    10898\n",
       "28.0     7894\n",
       "35.0     7702\n",
       "40.0     7640\n",
       "        ...  \n",
       "11.0      864\n",
       "9.0       753\n",
       "10.0      747\n",
       "13.0      714\n",
       "12.0      676\n",
       "Name: idade, Length: 62, dtype: int64"
      ]
     },
     "execution_count": 162,
     "metadata": {},
     "output_type": "execute_result"
    }
   ],
   "source": [
    "# Registros para cada dado da coluna idade após a exclusão de dados outliers\n",
    "dados.idade.value_counts()"
   ]
  },
  {
   "cell_type": "markdown",
   "id": "81e3b47a",
   "metadata": {},
   "source": [
    "## 2 - Salvando os dados em csv para análise em outra ferramenta"
   ]
  },
  {
   "cell_type": "code",
   "execution_count": 163,
   "id": "43bd0de8",
   "metadata": {},
   "outputs": [
    {
     "data": {
      "text/plain": [
       "(375213, 32)"
      ]
     },
     "execution_count": 163,
     "metadata": {},
     "output_type": "execute_result"
    }
   ],
   "source": [
    "# Quantidade de linhas e colunas após o tratamento dos dados\n",
    "dados.shape"
   ]
  },
  {
   "cell_type": "code",
   "execution_count": 165,
   "id": "f3242c27",
   "metadata": {},
   "outputs": [
    {
     "data": {
      "text/html": [
       "<div>\n",
       "<style scoped>\n",
       "    .dataframe tbody tr th:only-of-type {\n",
       "        vertical-align: middle;\n",
       "    }\n",
       "\n",
       "    .dataframe tbody tr th {\n",
       "        vertical-align: top;\n",
       "    }\n",
       "\n",
       "    .dataframe thead th {\n",
       "        text-align: right;\n",
       "    }\n",
       "</style>\n",
       "<table border=\"1\" class=\"dataframe\">\n",
       "  <thead>\n",
       "    <tr style=\"text-align: right;\">\n",
       "      <th></th>\n",
       "      <th>data_inversa</th>\n",
       "      <th>dia_semana</th>\n",
       "      <th>horario</th>\n",
       "      <th>uf</th>\n",
       "      <th>br</th>\n",
       "      <th>km</th>\n",
       "      <th>municipio</th>\n",
       "      <th>causa_principal</th>\n",
       "      <th>causa_acidente</th>\n",
       "      <th>tipo_acidente</th>\n",
       "      <th>classificacao_acidente</th>\n",
       "      <th>fase_dia</th>\n",
       "      <th>sentido_via</th>\n",
       "      <th>condicao_metereologica</th>\n",
       "      <th>tipo_pista</th>\n",
       "      <th>tracado_via</th>\n",
       "      <th>uso_solo</th>\n",
       "      <th>tipo_veiculo</th>\n",
       "      <th>marca</th>\n",
       "      <th>ano_fabricacao_veiculo</th>\n",
       "      <th>tipo_envolvido</th>\n",
       "      <th>estado_fisico</th>\n",
       "      <th>idade</th>\n",
       "      <th>sexo</th>\n",
       "      <th>ilesos</th>\n",
       "      <th>feridos_leves</th>\n",
       "      <th>feridos_graves</th>\n",
       "      <th>mortos</th>\n",
       "      <th>latitude</th>\n",
       "      <th>longitude</th>\n",
       "      <th>regional</th>\n",
       "      <th>delegacia</th>\n",
       "    </tr>\n",
       "  </thead>\n",
       "  <tbody>\n",
       "    <tr>\n",
       "      <th>0</th>\n",
       "      <td>2022-01-01</td>\n",
       "      <td>sábado</td>\n",
       "      <td>2022-12-02 00:10:00</td>\n",
       "      <td>CE</td>\n",
       "      <td>222.0</td>\n",
       "      <td>2,8</td>\n",
       "      <td>FORTALEZA</td>\n",
       "      <td>Sim</td>\n",
       "      <td>Ingestão de álcool pelo condutor</td>\n",
       "      <td>Colisão transversal</td>\n",
       "      <td>Com Vítimas Feridas</td>\n",
       "      <td>Plena Noite</td>\n",
       "      <td>Crescente</td>\n",
       "      <td>Céu Claro</td>\n",
       "      <td>Múltipla</td>\n",
       "      <td>Interseção de vias</td>\n",
       "      <td>Sim</td>\n",
       "      <td>Automóvel</td>\n",
       "      <td>CHEV/ONIX PLUS JOY BLACK/ONIX PLUS JOY BLACK</td>\n",
       "      <td>2021.0</td>\n",
       "      <td>Condutor</td>\n",
       "      <td>Ileso</td>\n",
       "      <td>45.0</td>\n",
       "      <td>Masculino</td>\n",
       "      <td>1</td>\n",
       "      <td>0</td>\n",
       "      <td>0</td>\n",
       "      <td>0</td>\n",
       "      <td>-3,73911117</td>\n",
       "      <td>-38,58687498</td>\n",
       "      <td>SPRF-CE</td>\n",
       "      <td>DEL01-CE</td>\n",
       "    </tr>\n",
       "    <tr>\n",
       "      <th>1</th>\n",
       "      <td>2022-01-01</td>\n",
       "      <td>sábado</td>\n",
       "      <td>2022-12-02 00:10:00</td>\n",
       "      <td>CE</td>\n",
       "      <td>222.0</td>\n",
       "      <td>2,8</td>\n",
       "      <td>FORTALEZA</td>\n",
       "      <td>Sim</td>\n",
       "      <td>Ingestão de álcool pelo condutor</td>\n",
       "      <td>Colisão transversal</td>\n",
       "      <td>Com Vítimas Feridas</td>\n",
       "      <td>Plena Noite</td>\n",
       "      <td>Crescente</td>\n",
       "      <td>Céu Claro</td>\n",
       "      <td>Múltipla</td>\n",
       "      <td>Interseção de vias</td>\n",
       "      <td>Sim</td>\n",
       "      <td>Motocicleta</td>\n",
       "      <td>HONDA/CG150 TITAN MIX ES/CG150 TITAN MIX ES</td>\n",
       "      <td>2009.0</td>\n",
       "      <td>Condutor</td>\n",
       "      <td>Lesões Graves</td>\n",
       "      <td>59.0</td>\n",
       "      <td>Masculino</td>\n",
       "      <td>0</td>\n",
       "      <td>0</td>\n",
       "      <td>1</td>\n",
       "      <td>0</td>\n",
       "      <td>-3,73911117</td>\n",
       "      <td>-38,58687498</td>\n",
       "      <td>SPRF-CE</td>\n",
       "      <td>DEL01-CE</td>\n",
       "    </tr>\n",
       "    <tr>\n",
       "      <th>2</th>\n",
       "      <td>2022-01-01</td>\n",
       "      <td>sábado</td>\n",
       "      <td>2022-12-02 01:30:00</td>\n",
       "      <td>PE</td>\n",
       "      <td>104.0</td>\n",
       "      <td>63</td>\n",
       "      <td>CARUARU</td>\n",
       "      <td>Não</td>\n",
       "      <td>Reação tardia ou ineficiente do condutor</td>\n",
       "      <td>Queda de ocupante de veículo</td>\n",
       "      <td>Com Vítimas Feridas</td>\n",
       "      <td>Plena Noite</td>\n",
       "      <td>Crescente</td>\n",
       "      <td>Céu Claro</td>\n",
       "      <td>Dupla</td>\n",
       "      <td>Interseção de vias</td>\n",
       "      <td>Sim</td>\n",
       "      <td>Motocicleta</td>\n",
       "      <td>YAMAHA/FACTOR YBR125 K/FACTOR YBR125 K</td>\n",
       "      <td>2009.0</td>\n",
       "      <td>Passageiro</td>\n",
       "      <td>Lesões Leves</td>\n",
       "      <td>25.0</td>\n",
       "      <td>Feminino</td>\n",
       "      <td>0</td>\n",
       "      <td>1</td>\n",
       "      <td>0</td>\n",
       "      <td>0</td>\n",
       "      <td>-8,2698</td>\n",
       "      <td>-35,9803</td>\n",
       "      <td>SPRF-PE</td>\n",
       "      <td>DEL02-PE</td>\n",
       "    </tr>\n",
       "    <tr>\n",
       "      <th>3</th>\n",
       "      <td>2022-01-01</td>\n",
       "      <td>sábado</td>\n",
       "      <td>2022-12-02 01:30:00</td>\n",
       "      <td>PE</td>\n",
       "      <td>104.0</td>\n",
       "      <td>63</td>\n",
       "      <td>CARUARU</td>\n",
       "      <td>Não</td>\n",
       "      <td>Reação tardia ou ineficiente do condutor</td>\n",
       "      <td>Queda de ocupante de veículo</td>\n",
       "      <td>Com Vítimas Feridas</td>\n",
       "      <td>Plena Noite</td>\n",
       "      <td>Crescente</td>\n",
       "      <td>Céu Claro</td>\n",
       "      <td>Dupla</td>\n",
       "      <td>Interseção de vias</td>\n",
       "      <td>Sim</td>\n",
       "      <td>Motocicleta</td>\n",
       "      <td>YAMAHA/FACTOR YBR125 K/FACTOR YBR125 K</td>\n",
       "      <td>2009.0</td>\n",
       "      <td>Condutor</td>\n",
       "      <td>Lesões Graves</td>\n",
       "      <td>37.0</td>\n",
       "      <td>Masculino</td>\n",
       "      <td>0</td>\n",
       "      <td>0</td>\n",
       "      <td>1</td>\n",
       "      <td>0</td>\n",
       "      <td>-8,2698</td>\n",
       "      <td>-35,9803</td>\n",
       "      <td>SPRF-PE</td>\n",
       "      <td>DEL02-PE</td>\n",
       "    </tr>\n",
       "    <tr>\n",
       "      <th>4</th>\n",
       "      <td>2022-01-01</td>\n",
       "      <td>sábado</td>\n",
       "      <td>2022-12-02 01:30:00</td>\n",
       "      <td>PE</td>\n",
       "      <td>104.0</td>\n",
       "      <td>63</td>\n",
       "      <td>CARUARU</td>\n",
       "      <td>Não</td>\n",
       "      <td>Reação tardia ou ineficiente do condutor</td>\n",
       "      <td>Queda de ocupante de veículo</td>\n",
       "      <td>Com Vítimas Feridas</td>\n",
       "      <td>Plena Noite</td>\n",
       "      <td>Crescente</td>\n",
       "      <td>Céu Claro</td>\n",
       "      <td>Dupla</td>\n",
       "      <td>Interseção de vias</td>\n",
       "      <td>Sim</td>\n",
       "      <td>Automóvel</td>\n",
       "      <td>VW/FOX CONNECT MB/FOX CONNECT MB</td>\n",
       "      <td>2019.0</td>\n",
       "      <td>Passageiro</td>\n",
       "      <td>Não Informado</td>\n",
       "      <td>34.0</td>\n",
       "      <td>Não Informado</td>\n",
       "      <td>0</td>\n",
       "      <td>0</td>\n",
       "      <td>0</td>\n",
       "      <td>0</td>\n",
       "      <td>-8,2698</td>\n",
       "      <td>-35,9803</td>\n",
       "      <td>SPRF-PE</td>\n",
       "      <td>DEL02-PE</td>\n",
       "    </tr>\n",
       "  </tbody>\n",
       "</table>\n",
       "</div>"
      ],
      "text/plain": [
       "  data_inversa dia_semana             horario  uf     br   km  municipio  \\\n",
       "0   2022-01-01     sábado 2022-12-02 00:10:00  CE  222.0  2,8  FORTALEZA   \n",
       "1   2022-01-01     sábado 2022-12-02 00:10:00  CE  222.0  2,8  FORTALEZA   \n",
       "2   2022-01-01     sábado 2022-12-02 01:30:00  PE  104.0   63    CARUARU   \n",
       "3   2022-01-01     sábado 2022-12-02 01:30:00  PE  104.0   63    CARUARU   \n",
       "4   2022-01-01     sábado 2022-12-02 01:30:00  PE  104.0   63    CARUARU   \n",
       "\n",
       "  causa_principal                            causa_acidente  \\\n",
       "0             Sim          Ingestão de álcool pelo condutor   \n",
       "1             Sim          Ingestão de álcool pelo condutor   \n",
       "2             Não  Reação tardia ou ineficiente do condutor   \n",
       "3             Não  Reação tardia ou ineficiente do condutor   \n",
       "4             Não  Reação tardia ou ineficiente do condutor   \n",
       "\n",
       "                  tipo_acidente classificacao_acidente     fase_dia  \\\n",
       "0           Colisão transversal    Com Vítimas Feridas  Plena Noite   \n",
       "1           Colisão transversal    Com Vítimas Feridas  Plena Noite   \n",
       "2  Queda de ocupante de veículo    Com Vítimas Feridas  Plena Noite   \n",
       "3  Queda de ocupante de veículo    Com Vítimas Feridas  Plena Noite   \n",
       "4  Queda de ocupante de veículo    Com Vítimas Feridas  Plena Noite   \n",
       "\n",
       "  sentido_via condicao_metereologica tipo_pista         tracado_via uso_solo  \\\n",
       "0   Crescente              Céu Claro   Múltipla  Interseção de vias      Sim   \n",
       "1   Crescente              Céu Claro   Múltipla  Interseção de vias      Sim   \n",
       "2   Crescente              Céu Claro      Dupla  Interseção de vias      Sim   \n",
       "3   Crescente              Céu Claro      Dupla  Interseção de vias      Sim   \n",
       "4   Crescente              Céu Claro      Dupla  Interseção de vias      Sim   \n",
       "\n",
       "  tipo_veiculo                                         marca  \\\n",
       "0    Automóvel  CHEV/ONIX PLUS JOY BLACK/ONIX PLUS JOY BLACK   \n",
       "1  Motocicleta   HONDA/CG150 TITAN MIX ES/CG150 TITAN MIX ES   \n",
       "2  Motocicleta        YAMAHA/FACTOR YBR125 K/FACTOR YBR125 K   \n",
       "3  Motocicleta        YAMAHA/FACTOR YBR125 K/FACTOR YBR125 K   \n",
       "4    Automóvel              VW/FOX CONNECT MB/FOX CONNECT MB   \n",
       "\n",
       "  ano_fabricacao_veiculo tipo_envolvido  estado_fisico  idade           sexo  \\\n",
       "0                 2021.0       Condutor          Ileso   45.0      Masculino   \n",
       "1                 2009.0       Condutor  Lesões Graves   59.0      Masculino   \n",
       "2                 2009.0     Passageiro   Lesões Leves   25.0       Feminino   \n",
       "3                 2009.0       Condutor  Lesões Graves   37.0      Masculino   \n",
       "4                 2019.0     Passageiro  Não Informado   34.0  Não Informado   \n",
       "\n",
       "  ilesos feridos_leves feridos_graves mortos     latitude     longitude  \\\n",
       "0      1             0              0      0  -3,73911117  -38,58687498   \n",
       "1      0             0              1      0  -3,73911117  -38,58687498   \n",
       "2      0             1              0      0      -8,2698      -35,9803   \n",
       "3      0             0              1      0      -8,2698      -35,9803   \n",
       "4      0             0              0      0      -8,2698      -35,9803   \n",
       "\n",
       "  regional delegacia  \n",
       "0  SPRF-CE  DEL01-CE  \n",
       "1  SPRF-CE  DEL01-CE  \n",
       "2  SPRF-PE  DEL02-PE  \n",
       "3  SPRF-PE  DEL02-PE  \n",
       "4  SPRF-PE  DEL02-PE  "
      ]
     },
     "execution_count": 165,
     "metadata": {},
     "output_type": "execute_result"
    }
   ],
   "source": [
    "# Visão geral da tabela\n",
    "dados.head()"
   ]
  },
  {
   "cell_type": "code",
   "execution_count": 166,
   "id": "630d2f68",
   "metadata": {},
   "outputs": [],
   "source": [
    "# Salva em CSV\n",
    "dados.to_csv('dados/acidentes2022_tratados.csv', index = False)"
   ]
  }
 ],
 "metadata": {
  "kernelspec": {
   "display_name": "Python 3 (ipykernel)",
   "language": "python",
   "name": "python3"
  },
  "language_info": {
   "codemirror_mode": {
    "name": "ipython",
    "version": 3
   },
   "file_extension": ".py",
   "mimetype": "text/x-python",
   "name": "python",
   "nbconvert_exporter": "python",
   "pygments_lexer": "ipython3",
   "version": "3.9.12"
  }
 },
 "nbformat": 4,
 "nbformat_minor": 5
}
